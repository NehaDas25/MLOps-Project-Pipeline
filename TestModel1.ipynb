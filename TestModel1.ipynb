{
  "nbformat": 4,
  "nbformat_minor": 0,
  "metadata": {
    "colab": {
      "provenance": [],
      "authorship_tag": "ABX9TyPfZXWHLsWBy4/1LVuLVZo2",
      "include_colab_link": true
    },
    "kernelspec": {
      "name": "python3",
      "display_name": "Python 3"
    },
    "language_info": {
      "name": "python"
    }
  },
  "cells": [
    {
      "cell_type": "markdown",
      "metadata": {
        "id": "view-in-github",
        "colab_type": "text"
      },
      "source": [
        "<a href=\"https://colab.research.google.com/github/NehaDas25/MLOps-Project-Pipeline/blob/main/TestModel1.ipynb\" target=\"_parent\"><img src=\"https://colab.research.google.com/assets/colab-badge.svg\" alt=\"Open In Colab\"/></a>"
      ]
    },
    {
      "cell_type": "markdown",
      "source": [],
      "metadata": {
        "id": "DKvVS2HSSjSO"
      }
    },
    {
      "cell_type": "markdown",
      "source": [
        "ML Pipelines using ZenML\n",
        "\n",
        "*   Convert existing ML code to ML pipelines using ZenML.\n",
        "*   Integrate and build models using sklearn.\n",
        "\n"
      ],
      "metadata": {
        "id": "PRF_X6dlSlZW"
      }
    },
    {
      "cell_type": "code",
      "execution_count": 9,
      "metadata": {
        "colab": {
          "base_uri": "https://localhost:8080/"
        },
        "id": "B-IptFJvSb0G",
        "outputId": "d1ae8555-21da-4af9-e55b-755acfac40ba"
      },
      "outputs": [
        {
          "output_type": "stream",
          "name": "stdout",
          "text": [
            "Requirement already satisfied: zenml[server] in /usr/local/lib/python3.10/dist-packages (0.53.1)\n",
            "Requirement already satisfied: alembic<1.9.0,>=1.8.1 in /usr/local/lib/python3.10/dist-packages (from zenml[server]) (1.8.1)\n",
            "Requirement already satisfied: azure-mgmt-resource>=21.0.0 in /usr/local/lib/python3.10/dist-packages (from zenml[server]) (23.0.1)\n",
            "Requirement already satisfied: bcrypt==4.0.1 in /usr/local/lib/python3.10/dist-packages (from zenml[server]) (4.0.1)\n",
            "Requirement already satisfied: click<8.1.4,>=8.0.1 in /usr/local/lib/python3.10/dist-packages (from zenml[server]) (8.1.3)\n",
            "Requirement already satisfied: click-params<0.4.0,>=0.3.0 in /usr/local/lib/python3.10/dist-packages (from zenml[server]) (0.3.0)\n",
            "Requirement already satisfied: cloudpickle<3,>=2.0.0 in /usr/local/lib/python3.10/dist-packages (from zenml[server]) (2.2.1)\n",
            "Requirement already satisfied: distro<2.0.0,>=1.6.0 in /usr/lib/python3/dist-packages (from zenml[server]) (1.7.0)\n",
            "Requirement already satisfied: docker<6.2.0,>=6.1.0 in /usr/local/lib/python3.10/dist-packages (from zenml[server]) (6.1.3)\n",
            "Requirement already satisfied: gitpython<4.0.0,>=3.1.18 in /usr/local/lib/python3.10/dist-packages (from zenml[server]) (3.1.40)\n",
            "Requirement already satisfied: httplib2<0.20,>=0.19.1 in /usr/local/lib/python3.10/dist-packages (from zenml[server]) (0.19.1)\n",
            "Requirement already satisfied: pandas>=1.1.5 in /usr/local/lib/python3.10/dist-packages (from zenml[server]) (1.5.3)\n",
            "Requirement already satisfied: passlib[bcrypt]<1.8.0,>=1.7.4 in /usr/local/lib/python3.10/dist-packages (from zenml[server]) (1.7.4)\n",
            "Requirement already satisfied: psutil>=5.0.0 in /usr/local/lib/python3.10/dist-packages (from zenml[server]) (5.9.5)\n",
            "Requirement already satisfied: pydantic<1.11,>=1.9.0 in /usr/local/lib/python3.10/dist-packages (from zenml[server]) (1.10.13)\n",
            "Requirement already satisfied: pymysql<1.1.0,>=1.0.2 in /usr/local/lib/python3.10/dist-packages (from zenml[server]) (1.0.3)\n",
            "Requirement already satisfied: pyparsing<3,>=2.4.0 in /usr/local/lib/python3.10/dist-packages (from zenml[server]) (2.4.2)\n",
            "Requirement already satisfied: python-dateutil<3.0.0,>=2.8.1 in /usr/local/lib/python3.10/dist-packages (from zenml[server]) (2.8.2)\n",
            "Requirement already satisfied: pyyaml>=6.0.1 in /usr/local/lib/python3.10/dist-packages (from zenml[server]) (6.0.1)\n",
            "Requirement already satisfied: rich[jupyter]>=12.0.0 in /usr/local/lib/python3.10/dist-packages (from zenml[server]) (13.7.0)\n",
            "Requirement already satisfied: sqlalchemy_utils==0.38.3 in /usr/local/lib/python3.10/dist-packages (from zenml[server]) (0.38.3)\n",
            "Requirement already satisfied: sqlmodel==0.0.8 in /usr/local/lib/python3.10/dist-packages (from zenml[server]) (0.0.8)\n",
            "Requirement already satisfied: Jinja2 in /usr/local/lib/python3.10/dist-packages (from zenml[server]) (3.1.2)\n",
            "Requirement already satisfied: fastapi<0.100,>=0.75 in /usr/local/lib/python3.10/dist-packages (from zenml[server]) (0.99.1)\n",
            "Requirement already satisfied: fastapi-utils<0.3.0,>=0.2.1 in /usr/local/lib/python3.10/dist-packages (from zenml[server]) (0.2.1)\n",
            "Requirement already satisfied: ipinfo>=4.4.3 in /usr/local/lib/python3.10/dist-packages (from zenml[server]) (5.0.0)\n",
            "Requirement already satisfied: orjson<3.9.0,>=3.8.3 in /usr/local/lib/python3.10/dist-packages (from zenml[server]) (3.8.14)\n",
            "Requirement already satisfied: pyjwt[crypto]==2.7.* in /usr/local/lib/python3.10/dist-packages (from zenml[server]) (2.7.0)\n",
            "Requirement already satisfied: python-multipart<0.1.0,>=0.0.5 in /usr/local/lib/python3.10/dist-packages (from zenml[server]) (0.0.6)\n",
            "Requirement already satisfied: uvicorn[standard]>=0.17.5 in /usr/local/lib/python3.10/dist-packages (from zenml[server]) (0.25.0)\n",
            "Requirement already satisfied: cryptography>=3.4.0 in /usr/local/lib/python3.10/dist-packages (from pyjwt[crypto]==2.7.*->zenml[server]) (41.0.7)\n",
            "Requirement already satisfied: SQLAlchemy>=1.3 in /usr/local/lib/python3.10/dist-packages (from sqlalchemy_utils==0.38.3->zenml[server]) (1.4.41)\n",
            "Requirement already satisfied: sqlalchemy2-stubs in /usr/local/lib/python3.10/dist-packages (from sqlmodel==0.0.8->zenml[server]) (0.0.2a37)\n",
            "Requirement already satisfied: Mako in /usr/local/lib/python3.10/dist-packages (from alembic<1.9.0,>=1.8.1->zenml[server]) (1.3.0)\n",
            "Requirement already satisfied: isodate<1.0.0,>=0.6.1 in /usr/local/lib/python3.10/dist-packages (from azure-mgmt-resource>=21.0.0->zenml[server]) (0.6.1)\n",
            "Requirement already satisfied: azure-common~=1.1 in /usr/local/lib/python3.10/dist-packages (from azure-mgmt-resource>=21.0.0->zenml[server]) (1.1.28)\n",
            "Requirement already satisfied: azure-mgmt-core<2.0.0,>=1.3.2 in /usr/local/lib/python3.10/dist-packages (from azure-mgmt-resource>=21.0.0->zenml[server]) (1.4.0)\n",
            "Requirement already satisfied: validators<0.19,>=0.18 in /usr/local/lib/python3.10/dist-packages (from click-params<0.4.0,>=0.3.0->zenml[server]) (0.18.2)\n",
            "Requirement already satisfied: packaging>=14.0 in /usr/local/lib/python3.10/dist-packages (from docker<6.2.0,>=6.1.0->zenml[server]) (23.2)\n",
            "Requirement already satisfied: requests>=2.26.0 in /usr/local/lib/python3.10/dist-packages (from docker<6.2.0,>=6.1.0->zenml[server]) (2.31.0)\n",
            "Requirement already satisfied: urllib3>=1.26.0 in /usr/local/lib/python3.10/dist-packages (from docker<6.2.0,>=6.1.0->zenml[server]) (2.0.7)\n",
            "Requirement already satisfied: websocket-client>=0.32.0 in /usr/local/lib/python3.10/dist-packages (from docker<6.2.0,>=6.1.0->zenml[server]) (1.7.0)\n",
            "Requirement already satisfied: starlette<0.28.0,>=0.27.0 in /usr/local/lib/python3.10/dist-packages (from fastapi<0.100,>=0.75->zenml[server]) (0.27.0)\n",
            "Requirement already satisfied: typing-extensions>=4.5.0 in /usr/local/lib/python3.10/dist-packages (from fastapi<0.100,>=0.75->zenml[server]) (4.9.0)\n",
            "Requirement already satisfied: gitdb<5,>=4.0.1 in /usr/local/lib/python3.10/dist-packages (from gitpython<4.0.0,>=3.1.18->zenml[server]) (4.0.11)\n",
            "Requirement already satisfied: cachetools in /usr/local/lib/python3.10/dist-packages (from ipinfo>=4.4.3->zenml[server]) (5.3.2)\n",
            "Requirement already satisfied: aiohttp<=4 in /usr/local/lib/python3.10/dist-packages (from ipinfo>=4.4.3->zenml[server]) (3.9.1)\n",
            "Requirement already satisfied: pytz>=2020.1 in /usr/local/lib/python3.10/dist-packages (from pandas>=1.1.5->zenml[server]) (2023.3.post1)\n",
            "Requirement already satisfied: numpy>=1.21.0 in /usr/local/lib/python3.10/dist-packages (from pandas>=1.1.5->zenml[server]) (1.23.5)\n",
            "Requirement already satisfied: six>=1.5 in /usr/local/lib/python3.10/dist-packages (from python-dateutil<3.0.0,>=2.8.1->zenml[server]) (1.16.0)\n",
            "Requirement already satisfied: markdown-it-py>=2.2.0 in /usr/local/lib/python3.10/dist-packages (from rich[jupyter]>=12.0.0->zenml[server]) (3.0.0)\n",
            "Requirement already satisfied: pygments<3.0.0,>=2.13.0 in /usr/local/lib/python3.10/dist-packages (from rich[jupyter]>=12.0.0->zenml[server]) (2.16.1)\n",
            "Requirement already satisfied: ipywidgets<9,>=7.5.1 in /usr/local/lib/python3.10/dist-packages (from rich[jupyter]>=12.0.0->zenml[server]) (7.7.1)\n",
            "Requirement already satisfied: h11>=0.8 in /usr/local/lib/python3.10/dist-packages (from uvicorn[standard]>=0.17.5->zenml[server]) (0.14.0)\n",
            "Requirement already satisfied: httptools>=0.5.0 in /usr/local/lib/python3.10/dist-packages (from uvicorn[standard]>=0.17.5->zenml[server]) (0.6.1)\n",
            "Requirement already satisfied: python-dotenv>=0.13 in /usr/local/lib/python3.10/dist-packages (from uvicorn[standard]>=0.17.5->zenml[server]) (1.0.0)\n",
            "Requirement already satisfied: uvloop!=0.15.0,!=0.15.1,>=0.14.0 in /usr/local/lib/python3.10/dist-packages (from uvicorn[standard]>=0.17.5->zenml[server]) (0.19.0)\n",
            "Requirement already satisfied: watchfiles>=0.13 in /usr/local/lib/python3.10/dist-packages (from uvicorn[standard]>=0.17.5->zenml[server]) (0.21.0)\n",
            "Requirement already satisfied: websockets>=10.4 in /usr/local/lib/python3.10/dist-packages (from uvicorn[standard]>=0.17.5->zenml[server]) (12.0)\n",
            "Requirement already satisfied: MarkupSafe>=2.0 in /usr/local/lib/python3.10/dist-packages (from Jinja2->zenml[server]) (2.1.3)\n",
            "Requirement already satisfied: attrs>=17.3.0 in /usr/local/lib/python3.10/dist-packages (from aiohttp<=4->ipinfo>=4.4.3->zenml[server]) (23.1.0)\n",
            "Requirement already satisfied: multidict<7.0,>=4.5 in /usr/local/lib/python3.10/dist-packages (from aiohttp<=4->ipinfo>=4.4.3->zenml[server]) (6.0.4)\n",
            "Requirement already satisfied: yarl<2.0,>=1.0 in /usr/local/lib/python3.10/dist-packages (from aiohttp<=4->ipinfo>=4.4.3->zenml[server]) (1.9.4)\n",
            "Requirement already satisfied: frozenlist>=1.1.1 in /usr/local/lib/python3.10/dist-packages (from aiohttp<=4->ipinfo>=4.4.3->zenml[server]) (1.4.1)\n",
            "Requirement already satisfied: aiosignal>=1.1.2 in /usr/local/lib/python3.10/dist-packages (from aiohttp<=4->ipinfo>=4.4.3->zenml[server]) (1.3.1)\n",
            "Requirement already satisfied: async-timeout<5.0,>=4.0 in /usr/local/lib/python3.10/dist-packages (from aiohttp<=4->ipinfo>=4.4.3->zenml[server]) (4.0.3)\n",
            "Requirement already satisfied: azure-core<2.0.0,>=1.26.2 in /usr/local/lib/python3.10/dist-packages (from azure-mgmt-core<2.0.0,>=1.3.2->azure-mgmt-resource>=21.0.0->zenml[server]) (1.29.6)\n",
            "Requirement already satisfied: cffi>=1.12 in /usr/local/lib/python3.10/dist-packages (from cryptography>=3.4.0->pyjwt[crypto]==2.7.*->zenml[server]) (1.16.0)\n",
            "Requirement already satisfied: smmap<6,>=3.0.1 in /usr/local/lib/python3.10/dist-packages (from gitdb<5,>=4.0.1->gitpython<4.0.0,>=3.1.18->zenml[server]) (5.0.1)\n",
            "Requirement already satisfied: ipykernel>=4.5.1 in /usr/local/lib/python3.10/dist-packages (from ipywidgets<9,>=7.5.1->rich[jupyter]>=12.0.0->zenml[server]) (5.5.6)\n",
            "Requirement already satisfied: ipython-genutils~=0.2.0 in /usr/local/lib/python3.10/dist-packages (from ipywidgets<9,>=7.5.1->rich[jupyter]>=12.0.0->zenml[server]) (0.2.0)\n",
            "Requirement already satisfied: traitlets>=4.3.1 in /usr/local/lib/python3.10/dist-packages (from ipywidgets<9,>=7.5.1->rich[jupyter]>=12.0.0->zenml[server]) (5.7.1)\n",
            "Requirement already satisfied: widgetsnbextension~=3.6.0 in /usr/local/lib/python3.10/dist-packages (from ipywidgets<9,>=7.5.1->rich[jupyter]>=12.0.0->zenml[server]) (3.6.6)\n",
            "Requirement already satisfied: ipython>=4.0.0 in /usr/local/lib/python3.10/dist-packages (from ipywidgets<9,>=7.5.1->rich[jupyter]>=12.0.0->zenml[server]) (7.34.0)\n",
            "Requirement already satisfied: jupyterlab-widgets>=1.0.0 in /usr/local/lib/python3.10/dist-packages (from ipywidgets<9,>=7.5.1->rich[jupyter]>=12.0.0->zenml[server]) (3.0.9)\n",
            "Requirement already satisfied: mdurl~=0.1 in /usr/local/lib/python3.10/dist-packages (from markdown-it-py>=2.2.0->rich[jupyter]>=12.0.0->zenml[server]) (0.1.2)\n",
            "Requirement already satisfied: charset-normalizer<4,>=2 in /usr/local/lib/python3.10/dist-packages (from requests>=2.26.0->docker<6.2.0,>=6.1.0->zenml[server]) (3.3.2)\n",
            "Requirement already satisfied: idna<4,>=2.5 in /usr/local/lib/python3.10/dist-packages (from requests>=2.26.0->docker<6.2.0,>=6.1.0->zenml[server]) (3.6)\n",
            "Requirement already satisfied: certifi>=2017.4.17 in /usr/local/lib/python3.10/dist-packages (from requests>=2.26.0->docker<6.2.0,>=6.1.0->zenml[server]) (2023.11.17)\n",
            "Requirement already satisfied: greenlet!=0.4.17 in /usr/local/lib/python3.10/dist-packages (from SQLAlchemy>=1.3->sqlalchemy_utils==0.38.3->zenml[server]) (3.0.2)\n",
            "Requirement already satisfied: anyio<5,>=3.4.0 in /usr/local/lib/python3.10/dist-packages (from starlette<0.28.0,>=0.27.0->fastapi<0.100,>=0.75->zenml[server]) (3.7.1)\n",
            "Requirement already satisfied: decorator>=3.4.0 in /usr/local/lib/python3.10/dist-packages (from validators<0.19,>=0.18->click-params<0.4.0,>=0.3.0->zenml[server]) (4.4.2)\n",
            "Requirement already satisfied: sniffio>=1.1 in /usr/local/lib/python3.10/dist-packages (from anyio<5,>=3.4.0->starlette<0.28.0,>=0.27.0->fastapi<0.100,>=0.75->zenml[server]) (1.3.0)\n",
            "Requirement already satisfied: exceptiongroup in /usr/local/lib/python3.10/dist-packages (from anyio<5,>=3.4.0->starlette<0.28.0,>=0.27.0->fastapi<0.100,>=0.75->zenml[server]) (1.2.0)\n",
            "Requirement already satisfied: pycparser in /usr/local/lib/python3.10/dist-packages (from cffi>=1.12->cryptography>=3.4.0->pyjwt[crypto]==2.7.*->zenml[server]) (2.21)\n",
            "Requirement already satisfied: jupyter-client in /usr/local/lib/python3.10/dist-packages (from ipykernel>=4.5.1->ipywidgets<9,>=7.5.1->rich[jupyter]>=12.0.0->zenml[server]) (6.1.12)\n",
            "Requirement already satisfied: tornado>=4.2 in /usr/local/lib/python3.10/dist-packages (from ipykernel>=4.5.1->ipywidgets<9,>=7.5.1->rich[jupyter]>=12.0.0->zenml[server]) (6.3.2)\n",
            "Requirement already satisfied: setuptools>=18.5 in /usr/local/lib/python3.10/dist-packages (from ipython>=4.0.0->ipywidgets<9,>=7.5.1->rich[jupyter]>=12.0.0->zenml[server]) (67.7.2)\n",
            "Requirement already satisfied: jedi>=0.16 in /usr/local/lib/python3.10/dist-packages (from ipython>=4.0.0->ipywidgets<9,>=7.5.1->rich[jupyter]>=12.0.0->zenml[server]) (0.19.1)\n",
            "Requirement already satisfied: pickleshare in /usr/local/lib/python3.10/dist-packages (from ipython>=4.0.0->ipywidgets<9,>=7.5.1->rich[jupyter]>=12.0.0->zenml[server]) (0.7.5)\n",
            "Requirement already satisfied: prompt-toolkit!=3.0.0,!=3.0.1,<3.1.0,>=2.0.0 in /usr/local/lib/python3.10/dist-packages (from ipython>=4.0.0->ipywidgets<9,>=7.5.1->rich[jupyter]>=12.0.0->zenml[server]) (3.0.43)\n",
            "Requirement already satisfied: backcall in /usr/local/lib/python3.10/dist-packages (from ipython>=4.0.0->ipywidgets<9,>=7.5.1->rich[jupyter]>=12.0.0->zenml[server]) (0.2.0)\n",
            "Requirement already satisfied: matplotlib-inline in /usr/local/lib/python3.10/dist-packages (from ipython>=4.0.0->ipywidgets<9,>=7.5.1->rich[jupyter]>=12.0.0->zenml[server]) (0.1.6)\n",
            "Requirement already satisfied: pexpect>4.3 in /usr/local/lib/python3.10/dist-packages (from ipython>=4.0.0->ipywidgets<9,>=7.5.1->rich[jupyter]>=12.0.0->zenml[server]) (4.9.0)\n",
            "Requirement already satisfied: notebook>=4.4.1 in /usr/local/lib/python3.10/dist-packages (from widgetsnbextension~=3.6.0->ipywidgets<9,>=7.5.1->rich[jupyter]>=12.0.0->zenml[server]) (6.5.5)\n",
            "Requirement already satisfied: parso<0.9.0,>=0.8.3 in /usr/local/lib/python3.10/dist-packages (from jedi>=0.16->ipython>=4.0.0->ipywidgets<9,>=7.5.1->rich[jupyter]>=12.0.0->zenml[server]) (0.8.3)\n",
            "Requirement already satisfied: pyzmq<25,>=17 in /usr/local/lib/python3.10/dist-packages (from notebook>=4.4.1->widgetsnbextension~=3.6.0->ipywidgets<9,>=7.5.1->rich[jupyter]>=12.0.0->zenml[server]) (23.2.1)\n",
            "Requirement already satisfied: argon2-cffi in /usr/local/lib/python3.10/dist-packages (from notebook>=4.4.1->widgetsnbextension~=3.6.0->ipywidgets<9,>=7.5.1->rich[jupyter]>=12.0.0->zenml[server]) (23.1.0)\n",
            "Requirement already satisfied: jupyter-core>=4.6.1 in /usr/local/lib/python3.10/dist-packages (from notebook>=4.4.1->widgetsnbextension~=3.6.0->ipywidgets<9,>=7.5.1->rich[jupyter]>=12.0.0->zenml[server]) (5.5.1)\n",
            "Requirement already satisfied: nbformat in /usr/local/lib/python3.10/dist-packages (from notebook>=4.4.1->widgetsnbextension~=3.6.0->ipywidgets<9,>=7.5.1->rich[jupyter]>=12.0.0->zenml[server]) (5.9.2)\n",
            "Requirement already satisfied: nbconvert>=5 in /usr/local/lib/python3.10/dist-packages (from notebook>=4.4.1->widgetsnbextension~=3.6.0->ipywidgets<9,>=7.5.1->rich[jupyter]>=12.0.0->zenml[server]) (6.5.4)\n",
            "Requirement already satisfied: nest-asyncio>=1.5 in /usr/local/lib/python3.10/dist-packages (from notebook>=4.4.1->widgetsnbextension~=3.6.0->ipywidgets<9,>=7.5.1->rich[jupyter]>=12.0.0->zenml[server]) (1.5.8)\n",
            "Requirement already satisfied: Send2Trash>=1.8.0 in /usr/local/lib/python3.10/dist-packages (from notebook>=4.4.1->widgetsnbextension~=3.6.0->ipywidgets<9,>=7.5.1->rich[jupyter]>=12.0.0->zenml[server]) (1.8.2)\n",
            "Requirement already satisfied: terminado>=0.8.3 in /usr/local/lib/python3.10/dist-packages (from notebook>=4.4.1->widgetsnbextension~=3.6.0->ipywidgets<9,>=7.5.1->rich[jupyter]>=12.0.0->zenml[server]) (0.18.0)\n",
            "Requirement already satisfied: prometheus-client in /usr/local/lib/python3.10/dist-packages (from notebook>=4.4.1->widgetsnbextension~=3.6.0->ipywidgets<9,>=7.5.1->rich[jupyter]>=12.0.0->zenml[server]) (0.19.0)\n",
            "Requirement already satisfied: nbclassic>=0.4.7 in /usr/local/lib/python3.10/dist-packages (from notebook>=4.4.1->widgetsnbextension~=3.6.0->ipywidgets<9,>=7.5.1->rich[jupyter]>=12.0.0->zenml[server]) (1.0.0)\n",
            "Requirement already satisfied: ptyprocess>=0.5 in /usr/local/lib/python3.10/dist-packages (from pexpect>4.3->ipython>=4.0.0->ipywidgets<9,>=7.5.1->rich[jupyter]>=12.0.0->zenml[server]) (0.7.0)\n",
            "Requirement already satisfied: wcwidth in /usr/local/lib/python3.10/dist-packages (from prompt-toolkit!=3.0.0,!=3.0.1,<3.1.0,>=2.0.0->ipython>=4.0.0->ipywidgets<9,>=7.5.1->rich[jupyter]>=12.0.0->zenml[server]) (0.2.12)\n",
            "Requirement already satisfied: platformdirs>=2.5 in /usr/local/lib/python3.10/dist-packages (from jupyter-core>=4.6.1->notebook>=4.4.1->widgetsnbextension~=3.6.0->ipywidgets<9,>=7.5.1->rich[jupyter]>=12.0.0->zenml[server]) (4.1.0)\n",
            "Requirement already satisfied: jupyter-server>=1.8 in /usr/local/lib/python3.10/dist-packages (from nbclassic>=0.4.7->notebook>=4.4.1->widgetsnbextension~=3.6.0->ipywidgets<9,>=7.5.1->rich[jupyter]>=12.0.0->zenml[server]) (1.24.0)\n",
            "Requirement already satisfied: notebook-shim>=0.2.3 in /usr/local/lib/python3.10/dist-packages (from nbclassic>=0.4.7->notebook>=4.4.1->widgetsnbextension~=3.6.0->ipywidgets<9,>=7.5.1->rich[jupyter]>=12.0.0->zenml[server]) (0.2.3)\n",
            "Requirement already satisfied: lxml in /usr/local/lib/python3.10/dist-packages (from nbconvert>=5->notebook>=4.4.1->widgetsnbextension~=3.6.0->ipywidgets<9,>=7.5.1->rich[jupyter]>=12.0.0->zenml[server]) (4.9.3)\n",
            "Requirement already satisfied: beautifulsoup4 in /usr/local/lib/python3.10/dist-packages (from nbconvert>=5->notebook>=4.4.1->widgetsnbextension~=3.6.0->ipywidgets<9,>=7.5.1->rich[jupyter]>=12.0.0->zenml[server]) (4.11.2)\n",
            "Requirement already satisfied: bleach in /usr/local/lib/python3.10/dist-packages (from nbconvert>=5->notebook>=4.4.1->widgetsnbextension~=3.6.0->ipywidgets<9,>=7.5.1->rich[jupyter]>=12.0.0->zenml[server]) (6.1.0)\n",
            "Requirement already satisfied: defusedxml in /usr/local/lib/python3.10/dist-packages (from nbconvert>=5->notebook>=4.4.1->widgetsnbextension~=3.6.0->ipywidgets<9,>=7.5.1->rich[jupyter]>=12.0.0->zenml[server]) (0.7.1)\n",
            "Requirement already satisfied: entrypoints>=0.2.2 in /usr/local/lib/python3.10/dist-packages (from nbconvert>=5->notebook>=4.4.1->widgetsnbextension~=3.6.0->ipywidgets<9,>=7.5.1->rich[jupyter]>=12.0.0->zenml[server]) (0.4)\n",
            "Requirement already satisfied: jupyterlab-pygments in /usr/local/lib/python3.10/dist-packages (from nbconvert>=5->notebook>=4.4.1->widgetsnbextension~=3.6.0->ipywidgets<9,>=7.5.1->rich[jupyter]>=12.0.0->zenml[server]) (0.3.0)\n",
            "Requirement already satisfied: mistune<2,>=0.8.1 in /usr/local/lib/python3.10/dist-packages (from nbconvert>=5->notebook>=4.4.1->widgetsnbextension~=3.6.0->ipywidgets<9,>=7.5.1->rich[jupyter]>=12.0.0->zenml[server]) (0.8.4)\n",
            "Requirement already satisfied: nbclient>=0.5.0 in /usr/local/lib/python3.10/dist-packages (from nbconvert>=5->notebook>=4.4.1->widgetsnbextension~=3.6.0->ipywidgets<9,>=7.5.1->rich[jupyter]>=12.0.0->zenml[server]) (0.9.0)\n",
            "Requirement already satisfied: pandocfilters>=1.4.1 in /usr/local/lib/python3.10/dist-packages (from nbconvert>=5->notebook>=4.4.1->widgetsnbextension~=3.6.0->ipywidgets<9,>=7.5.1->rich[jupyter]>=12.0.0->zenml[server]) (1.5.0)\n",
            "Requirement already satisfied: tinycss2 in /usr/local/lib/python3.10/dist-packages (from nbconvert>=5->notebook>=4.4.1->widgetsnbextension~=3.6.0->ipywidgets<9,>=7.5.1->rich[jupyter]>=12.0.0->zenml[server]) (1.2.1)\n",
            "Requirement already satisfied: fastjsonschema in /usr/local/lib/python3.10/dist-packages (from nbformat->notebook>=4.4.1->widgetsnbextension~=3.6.0->ipywidgets<9,>=7.5.1->rich[jupyter]>=12.0.0->zenml[server]) (2.19.0)\n",
            "Requirement already satisfied: jsonschema>=2.6 in /usr/local/lib/python3.10/dist-packages (from nbformat->notebook>=4.4.1->widgetsnbextension~=3.6.0->ipywidgets<9,>=7.5.1->rich[jupyter]>=12.0.0->zenml[server]) (4.19.2)\n",
            "Requirement already satisfied: argon2-cffi-bindings in /usr/local/lib/python3.10/dist-packages (from argon2-cffi->notebook>=4.4.1->widgetsnbextension~=3.6.0->ipywidgets<9,>=7.5.1->rich[jupyter]>=12.0.0->zenml[server]) (21.2.0)\n",
            "Requirement already satisfied: jsonschema-specifications>=2023.03.6 in /usr/local/lib/python3.10/dist-packages (from jsonschema>=2.6->nbformat->notebook>=4.4.1->widgetsnbextension~=3.6.0->ipywidgets<9,>=7.5.1->rich[jupyter]>=12.0.0->zenml[server]) (2023.11.2)\n",
            "Requirement already satisfied: referencing>=0.28.4 in /usr/local/lib/python3.10/dist-packages (from jsonschema>=2.6->nbformat->notebook>=4.4.1->widgetsnbextension~=3.6.0->ipywidgets<9,>=7.5.1->rich[jupyter]>=12.0.0->zenml[server]) (0.32.0)\n",
            "Requirement already satisfied: rpds-py>=0.7.1 in /usr/local/lib/python3.10/dist-packages (from jsonschema>=2.6->nbformat->notebook>=4.4.1->widgetsnbextension~=3.6.0->ipywidgets<9,>=7.5.1->rich[jupyter]>=12.0.0->zenml[server]) (0.15.2)\n",
            "Requirement already satisfied: soupsieve>1.2 in /usr/local/lib/python3.10/dist-packages (from beautifulsoup4->nbconvert>=5->notebook>=4.4.1->widgetsnbextension~=3.6.0->ipywidgets<9,>=7.5.1->rich[jupyter]>=12.0.0->zenml[server]) (2.5)\n",
            "Requirement already satisfied: webencodings in /usr/local/lib/python3.10/dist-packages (from bleach->nbconvert>=5->notebook>=4.4.1->widgetsnbextension~=3.6.0->ipywidgets<9,>=7.5.1->rich[jupyter]>=12.0.0->zenml[server]) (0.5.1)\n",
            "\u001b[1;35mNumExpr defaulting to 2 threads.\u001b[0m\n",
            "\u001b[2K\u001b[32m⠇\u001b[0m Installing integrations...\n",
            "\u001b[1A\u001b[2KRequirement already satisfied: pyparsing==2.4.2 in /usr/local/lib/python3.10/dist-packages (2.4.2)\n"
          ]
        },
        {
          "output_type": "execute_result",
          "data": {
            "text/plain": [
              "{'status': 'ok', 'restart': True}"
            ]
          },
          "metadata": {},
          "execution_count": 9
        }
      ],
      "source": [
        "%pip install \"zenml[server]\"\n",
        "!zenml integration install sklearn -y\n",
        "%pip install pyparsing==2.4.2   #Recommended by collab.\n",
        "\n",
        "import IPython\n",
        "\n",
        "# automatically restart kernel\n",
        "IPython.Application.instance().kernel.do_shutdown(restart=True)"
      ]
    },
    {
      "cell_type": "code",
      "source": [
        "NGROK_TOKEN = \"2aET30xD1eZBsX7juRFmeSwtZ9z_6c7Pht9FboeMLtnkrRw7F\"  ## My Grok Token"
      ],
      "metadata": {
        "id": "eeBI0c0FVOCt"
      },
      "execution_count": null,
      "outputs": []
    },
    {
      "cell_type": "code",
      "source": [
        "from zenml.environment import Environment\n",
        "if Environment.in_google_colab():\n",
        "  # Install and authenticate ngrok\n",
        "  !pip install pyngrok\n",
        "  !ngrok authtoken {NGROK_TOKEN}"
      ],
      "metadata": {
        "colab": {
          "base_uri": "https://localhost:8080/"
        },
        "id": "qfpN8-GzVl6l",
        "outputId": "30273451-adf6-4157-f241-fd126bb1e3d3"
      },
      "execution_count": 2,
      "outputs": [
        {
          "output_type": "stream",
          "name": "stderr",
          "text": [
            "INFO:numexpr.utils:NumExpr defaulting to 2 threads.\n"
          ]
        },
        {
          "output_type": "stream",
          "name": "stdout",
          "text": [
            "\u001b[1;35mNumExpr defaulting to 2 threads.\u001b[0m\n",
            "Requirement already satisfied: pyngrok in /usr/local/lib/python3.10/dist-packages (7.0.4)\n",
            "Requirement already satisfied: PyYAML in /usr/local/lib/python3.10/dist-packages (from pyngrok) (6.0.1)\n",
            "Authtoken saved to configuration file: /root/.config/ngrok/ngrok.yml\n"
          ]
        }
      ]
    },
    {
      "cell_type": "markdown",
      "source": [
        "ZenML Setup\n",
        "\n",
        "Using this tool to use and integrate advanced MLOPs to run ML pipelines."
      ],
      "metadata": {
        "id": "1Sq_5_luWmDO"
      }
    },
    {
      "cell_type": "code",
      "source": [
        "!rm -rf .zen\n",
        "!zenml init"
      ],
      "metadata": {
        "colab": {
          "base_uri": "https://localhost:8080/"
        },
        "id": "XVziwGOxWUw7",
        "outputId": "4132c60b-bf02-4525-c1cc-bf9e535a3ad4"
      },
      "execution_count": 3,
      "outputs": [
        {
          "output_type": "stream",
          "name": "stdout",
          "text": [
            "\u001b[1;35mNumExpr defaulting to 2 threads.\u001b[0m\n",
            "\u001b[?25l\u001b[32m⠋\u001b[0m Initializing ZenML repository at /content.\n",
            "\u001b[2K\u001b[1A\u001b[2K\u001b[32m⠙\u001b[0m Initializing ZenML repository at /content.\n",
            "\u001b[2K\u001b[1A\u001b[2K\u001b[32m⠹\u001b[0m Initializing ZenML repository at /content.\n",
            "\u001b[2K\u001b[1A\u001b[2K\u001b[32m⠼\u001b[0m Initializing ZenML repository at /content.\n",
            "\u001b[1;35mSetting the repo active workspace to 'default'.\u001b[0m\n",
            "\u001b[33mSetting the repo active stack to default.\u001b[0m\n",
            "\u001b[2K\u001b[1A\u001b[2K\u001b[2;36mZenML repository initialized at \u001b[0m\u001b[2;35m/\u001b[0m\u001b[2;95mcontent.\u001b[0m\n",
            "\u001b[2;32m⠼\u001b[0m\u001b[2;36m Initializing ZenML repository at /content.\u001b[0m\n",
            "\u001b[2K\u001b[1A\u001b[2K\u001b[32m⠼\u001b[0m Initializing ZenML repository at /content.\n",
            "\n",
            "\u001b[1A\u001b[2K\u001b[1A\u001b[2K\u001b[2;36mThe local active stack was initialized to \u001b[0m\u001b[2;32m'default'\u001b[0m\u001b[2;36m. This local configuration will only take effect \u001b[0m\n",
            "\u001b[2;36mwhen you're running ZenML from the initialized repository root, or from a subdirectory. For more \u001b[0m\n",
            "\u001b[2;36minformation on repositories and configurations, please visit \u001b[0m\n",
            "\u001b[2;4;94mhttps://docs.zenml.io/user-guide/starter-guide/understand-stacks.\u001b[0m\n"
          ]
        }
      ]
    },
    {
      "cell_type": "markdown",
      "source": [
        "Experimenting ML code\n",
        "*   Training a scikit-learn SVC classifier to classify the images of handwritten digits.\n",
        "*   Load the data, train a model on training set and test it on testing set.\n",
        "\n"
      ],
      "metadata": {
        "id": "mwDVUSSPXzqO"
      }
    },
    {
      "cell_type": "code",
      "source": [
        "import numpy as np\n",
        "from sklearn.base import ClassifierMixin\n",
        "from sklearn.svm import SVC\n",
        "from sklearn.datasets import load_digits\n",
        "from sklearn.model_selection import train_test_split\n",
        "\n",
        "def train_test() -> None:\n",
        "  \"\"\"Train and Test Scikit-learn SVC classifier on digits\"\"\"\n",
        "  digits = load_digits()\n",
        "  data= digits.images.reshape((len(digits.images), -1))\n",
        "  X_train, X_test, y_train, y_test = train_test_split(\n",
        "      data, digits.target, test_size=0.2, shuffle=False\n",
        "  )\n",
        "  model = SVC(gamma=0.001)\n",
        "  model.fit(X_train,y_train)\n",
        "  test_acc = model.score(X_test, y_test)\n",
        "  print(f\"Test accuraccy: {test_acc}\")\n",
        "\n",
        "train_test()"
      ],
      "metadata": {
        "colab": {
          "base_uri": "https://localhost:8080/"
        },
        "id": "98vPq-mpYavY",
        "outputId": "b870993d-b8ad-4748-8ff0-7be267ef253a"
      },
      "execution_count": 4,
      "outputs": [
        {
          "output_type": "stream",
          "name": "stdout",
          "text": [
            "Test accuraccy: 0.9583333333333334\n"
          ]
        }
      ]
    },
    {
      "cell_type": "markdown",
      "source": [
        "Convert above experimentation into ML Pipeline using ZenML.\n",
        "*   Data loading using importer\n",
        "*   Model training using SVC trainer from SVM classifier.\n",
        "*   Model Evaluation using Python evaluator.\n",
        "\n",
        "*Using Python decorator @step for ZenML pipeline*\n",
        "\n",
        "\n",
        "\n"
      ],
      "metadata": {
        "id": "JPfczxxAbRDm"
      }
    },
    {
      "cell_type": "code",
      "source": [
        "from zenml import step\n",
        "from typing_extensions import Annotated\n",
        "import pandas as pd\n",
        "from typing import Tuple\n",
        "\n",
        "@step\n",
        "def importer() -> Tuple[\n",
        "    Annotated[np.ndarray, \"X_train\"],\n",
        "    Annotated[np.ndarray, \"X_test\"],\n",
        "    Annotated[np.ndarray, \"y_train\"],\n",
        "    Annotated[np.ndarray, \"y_test\"],\n",
        "]:\n",
        "    \"\"\"Load the digits datasets as numpy arrays.\"\"\"\n",
        "    digits = load_digits()\n",
        "    data= digits.images.reshape((len(digits.images), -1))\n",
        "    X_train, X_test, y_train, y_test = train_test_split(\n",
        "        data, digits.target, test_size=0.2, shuffle=False\n",
        "    )\n",
        "    return X_train, X_test, y_train, y_test\n",
        "\n",
        "@step\n",
        "def svc_trainer(X_train:np.ndarray, y_train:np.ndarray,) -> ClassifierMixin:\n",
        "  \"\"\"Train a sklearn SVC classifier\"\"\"\n",
        "  model = SVC(gamma=0.001)\n",
        "  model.fit(X_train,y_train)\n",
        "  return model\n",
        "\n",
        "\n",
        "@step\n",
        "def evaluator(X_test:np.ndarray, y_test:np.ndarray,model: ClassifierMixin,) -> float:\n",
        "  \"\"\"Calculate the test accuracy of the Sklearn model\"\"\"\n",
        "  test_acc = model.score(X_test, y_test)\n",
        "  print(f\"Test accuraccy: {test_acc}\")\n",
        "  return test_acc\n"
      ],
      "metadata": {
        "id": "QPK1vnqvcK_M"
      },
      "execution_count": 5,
      "outputs": []
    },
    {
      "cell_type": "markdown",
      "source": [
        "Use ZenML pipeline decorator to connect and run the whole pipeline."
      ],
      "metadata": {
        "id": "nDS1SJ5mf2ml"
      }
    },
    {
      "cell_type": "code",
      "source": [
        "from zenml import pipeline\n",
        "\n",
        "@pipeline\n",
        "def digits_pipeline():\n",
        "  \"\"\" Link all the steps together in a pipelinbe\"\"\"\n",
        "  X_train, X_test, y_train, y_test = importer()\n",
        "  model = svc_trainer(X_train=X_train, y_train=y_train)\n",
        "  evaluator(X_test=X_test, y_test=y_test, model=model)"
      ],
      "metadata": {
        "id": "ahtXhIoCgDn-"
      },
      "execution_count": 6,
      "outputs": []
    },
    {
      "cell_type": "markdown",
      "source": [
        "Running zenml pipeline using run() method."
      ],
      "metadata": {
        "id": "KAJ6VTNJgjLR"
      }
    },
    {
      "cell_type": "code",
      "source": [
        "digits_svc_pipeline = digits_pipeline()\n",
        "#digits_pipeline().run(unlisted=True)"
      ],
      "metadata": {
        "colab": {
          "base_uri": "https://localhost:8080/"
        },
        "id": "RWFIOPXZgn5q",
        "outputId": "91e99276-e1a1-4f2b-f190-58bf55f0b282"
      },
      "execution_count": 7,
      "outputs": [
        {
          "output_type": "stream",
          "name": "stdout",
          "text": [
            "\u001b[1;35mInitiating a new run for the pipeline: \u001b[0m\u001b[1;36mdigits_pipeline\u001b[1;35m.\u001b[0m\n",
            "\u001b[1;35mReusing registered version: \u001b[0m\u001b[1;36m(version: 1)\u001b[1;35m.\u001b[0m\n",
            "\u001b[1;35mExecuting a new run.\u001b[0m\n",
            "\u001b[1;35mUsing user: \u001b[0m\u001b[1;36mdefault\u001b[1;35m\u001b[0m\n",
            "\u001b[1;35mUsing stack: \u001b[0m\u001b[1;36mdefault\u001b[1;35m\u001b[0m\n",
            "\u001b[1;35m  orchestrator: \u001b[0m\u001b[1;36mdefault\u001b[1;35m\u001b[0m\n",
            "\u001b[1;35m  artifact_store: \u001b[0m\u001b[1;36mdefault\u001b[1;35m\u001b[0m\n",
            "\u001b[1;35mUsing cached version of \u001b[0m\u001b[1;36mimporter\u001b[1;35m.\u001b[0m\n",
            "\u001b[1;35mStep \u001b[0m\u001b[1;36mimporter\u001b[1;35m has started.\u001b[0m\n",
            "\u001b[1;35mUsing cached version of \u001b[0m\u001b[1;36msvc_trainer\u001b[1;35m.\u001b[0m\n",
            "\u001b[1;35mLinking artifact \u001b[0m\u001b[1;36moutput\u001b[1;35m to model \u001b[0m\u001b[1;36mNone\u001b[1;35m version \u001b[0m\u001b[1;36mNone\u001b[1;35m implicitly.\u001b[0m\n",
            "\u001b[1;35mStep \u001b[0m\u001b[1;36msvc_trainer\u001b[1;35m has started.\u001b[0m\n",
            "\u001b[1;35mUsing cached version of \u001b[0m\u001b[1;36mevaluator\u001b[1;35m.\u001b[0m\n",
            "\u001b[1;35mLinking artifact \u001b[0m\u001b[1;36moutput\u001b[1;35m to model \u001b[0m\u001b[1;36mNone\u001b[1;35m version \u001b[0m\u001b[1;36mNone\u001b[1;35m implicitly.\u001b[0m\n",
            "\u001b[1;35mStep \u001b[0m\u001b[1;36mevaluator\u001b[1;35m has started.\u001b[0m\n",
            "\u001b[1;35mRun \u001b[0m\u001b[1;36mdigits_pipeline-2023_12_29-22_07_43_090853\u001b[1;35m has finished in \u001b[0m\u001b[1;36m0.680s\u001b[1;35m.\u001b[0m\n",
            "\u001b[1;35mYou can visualize your pipeline runs in the \u001b[0m\u001b[1;36mZenML Dashboard\u001b[1;35m. In order to try it locally, please run \u001b[0m\u001b[1;36mzenml up\u001b[1;35m.\u001b[0m\n"
          ]
        }
      ]
    },
    {
      "cell_type": "markdown",
      "source": [
        "Visualize ZenML dashboard using zenml environment"
      ],
      "metadata": {
        "id": "RNtktsHCn4t6"
      }
    },
    {
      "cell_type": "code",
      "source": [
        "from zenml.environment import Environment\n",
        "\n",
        "def start_zenml_dashboard(port=8237):\n",
        "  if Environment.in_google_colab():\n",
        "    from pyngrok import ngrok\n",
        "\n",
        "    public_url = ngrok.connect(port)\n",
        "    print(f\"\\x1b[31mIn Colab, use this URL instead : {public_url}!\\x1b[0m\")\n",
        "    !zenml up --blocking --port {port}\n",
        "\n",
        "  else:\n",
        "    !zenml up --port {port}\n",
        "\n",
        "start_zenml_dashboard()"
      ],
      "metadata": {
        "colab": {
          "base_uri": "https://localhost:8080/"
        },
        "id": "2kA_l0s_oBLc",
        "outputId": "c62dedf2-42a5-410b-968a-76c71b1024c8"
      },
      "execution_count": null,
      "outputs": [
        {
          "output_type": "stream",
          "name": "stderr",
          "text": [
            "INFO:pyngrok.ngrok:Opening tunnel named: http-8237-24e0cc12-b653-4057-b550-6d38ac6678f5\n"
          ]
        },
        {
          "output_type": "stream",
          "name": "stdout",
          "text": [
            "\u001b[1;35mOpening tunnel named: http-8237-24e0cc12-b653-4057-b550-6d38ac6678f5\u001b[0m\n"
          ]
        },
        {
          "output_type": "stream",
          "name": "stderr",
          "text": [
            "INFO:pyngrok.process.ngrok:t=2023-12-29T22:15:06+0000 lvl=info msg=\"no configuration paths supplied\"\n"
          ]
        },
        {
          "output_type": "stream",
          "name": "stdout",
          "text": [
            "\u001b[1;35mt=2023-12-29T22:15:06+0000 lvl=info msg=\"no configuration paths supplied\"\u001b[0m\n"
          ]
        },
        {
          "output_type": "stream",
          "name": "stderr",
          "text": [
            "INFO:pyngrok.process.ngrok:t=2023-12-29T22:15:06+0000 lvl=info msg=\"using configuration at default config path\" path=/root/.config/ngrok/ngrok.yml\n"
          ]
        },
        {
          "output_type": "stream",
          "name": "stdout",
          "text": [
            "\u001b[1;35mt=2023-12-29T22:15:06+0000 lvl=info msg=\"using configuration at default config path\" path=/root/.config/ngrok/ngrok.yml\u001b[0m\n"
          ]
        },
        {
          "output_type": "stream",
          "name": "stderr",
          "text": [
            "INFO:pyngrok.process.ngrok:t=2023-12-29T22:15:06+0000 lvl=info msg=\"open config file\" path=/root/.config/ngrok/ngrok.yml err=nil\n"
          ]
        },
        {
          "output_type": "stream",
          "name": "stdout",
          "text": [
            "\u001b[1;35mt=2023-12-29T22:15:06+0000 lvl=info msg=\"open config file\" path=/root/.config/ngrok/ngrok.yml err=nil\u001b[0m\n"
          ]
        },
        {
          "output_type": "stream",
          "name": "stderr",
          "text": [
            "INFO:pyngrok.process.ngrok:t=2023-12-29T22:15:06+0000 lvl=info msg=\"starting web service\" obj=web addr=127.0.0.1:4040 allow_hosts=[]\n"
          ]
        },
        {
          "output_type": "stream",
          "name": "stdout",
          "text": [
            "\u001b[1;35mt=2023-12-29T22:15:06+0000 lvl=info msg=\"starting web service\" obj=web addr=127.0.0.1:4040 allow_hosts=[]\u001b[0m\n"
          ]
        },
        {
          "output_type": "stream",
          "name": "stderr",
          "text": [
            "INFO:pyngrok.process.ngrok:t=2023-12-29T22:15:06+0000 lvl=info msg=\"client session established\" obj=tunnels.session obj=csess id=46e8eaf8f7ed\n"
          ]
        },
        {
          "output_type": "stream",
          "name": "stdout",
          "text": [
            "\u001b[1;35mt=2023-12-29T22:15:06+0000 lvl=info msg=\"client session established\" obj=tunnels.session obj=csess id=46e8eaf8f7ed\u001b[0m\n"
          ]
        },
        {
          "output_type": "stream",
          "name": "stderr",
          "text": [
            "INFO:pyngrok.process.ngrok:t=2023-12-29T22:15:06+0000 lvl=info msg=\"tunnel session started\" obj=tunnels.session\n"
          ]
        },
        {
          "output_type": "stream",
          "name": "stdout",
          "text": [
            "\u001b[1;35mt=2023-12-29T22:15:06+0000 lvl=info msg=\"tunnel session started\" obj=tunnels.session\u001b[0m\n"
          ]
        },
        {
          "output_type": "stream",
          "name": "stderr",
          "text": [
            "INFO:pyngrok.process.ngrok:t=2023-12-29T22:15:07+0000 lvl=info msg=start pg=/api/tunnels id=3c06081087ba59e2\n"
          ]
        },
        {
          "output_type": "stream",
          "name": "stdout",
          "text": [
            "\u001b[1;35mt=2023-12-29T22:15:07+0000 lvl=info msg=start pg=/api/tunnels id=3c06081087ba59e2\u001b[0m\n"
          ]
        },
        {
          "output_type": "stream",
          "name": "stderr",
          "text": [
            "INFO:pyngrok.process.ngrok:t=2023-12-29T22:15:07+0000 lvl=info msg=end pg=/api/tunnels id=3c06081087ba59e2 status=200 dur=439.37µs\n"
          ]
        },
        {
          "output_type": "stream",
          "name": "stdout",
          "text": [
            "\u001b[1;35mt=2023-12-29T22:15:07+0000 lvl=info msg=end pg=/api/tunnels id=3c06081087ba59e2 status=200 dur=439.37µs\u001b[0m\n"
          ]
        },
        {
          "output_type": "stream",
          "name": "stderr",
          "text": [
            "INFO:pyngrok.process.ngrok:t=2023-12-29T22:15:07+0000 lvl=info msg=start pg=/api/tunnels id=28bd8582ba164b5d\n"
          ]
        },
        {
          "output_type": "stream",
          "name": "stdout",
          "text": [
            "\u001b[1;35mt=2023-12-29T22:15:07+0000 lvl=info msg=start pg=/api/tunnels id=28bd8582ba164b5d\u001b[0m\n"
          ]
        },
        {
          "output_type": "stream",
          "name": "stderr",
          "text": [
            "INFO:pyngrok.process.ngrok:t=2023-12-29T22:15:07+0000 lvl=info msg=end pg=/api/tunnels id=28bd8582ba164b5d status=200 dur=158.355µs\n"
          ]
        },
        {
          "output_type": "stream",
          "name": "stdout",
          "text": [
            "\u001b[1;35mt=2023-12-29T22:15:07+0000 lvl=info msg=end pg=/api/tunnels id=28bd8582ba164b5d status=200 dur=158.355µs\u001b[0m\n"
          ]
        },
        {
          "output_type": "stream",
          "name": "stderr",
          "text": [
            "INFO:pyngrok.process.ngrok:t=2023-12-29T22:15:07+0000 lvl=info msg=start pg=/api/tunnels id=61be39f6e6d043f2\n"
          ]
        },
        {
          "output_type": "stream",
          "name": "stdout",
          "text": [
            "\u001b[1;35mt=2023-12-29T22:15:07+0000 lvl=info msg=start pg=/api/tunnels id=61be39f6e6d043f2\u001b[0m\n"
          ]
        },
        {
          "output_type": "stream",
          "name": "stderr",
          "text": [
            "INFO:pyngrok.process.ngrok:t=2023-12-29T22:15:07+0000 lvl=info msg=\"started tunnel\" obj=tunnels name=http-8237-24e0cc12-b653-4057-b550-6d38ac6678f5 addr=http://localhost:8237 url=https://692a-35-236-247-36.ngrok-free.app\n"
          ]
        },
        {
          "output_type": "stream",
          "name": "stdout",
          "text": [
            "\u001b[31mIn Colab, use this URL instead : NgrokTunnel: \"https://692a-35-236-247-36.ngrok-free.app\" -> \"http://localhost:8237\"!\u001b[0m\n",
            "\u001b[1;35mt=2023-12-29T22:15:07+0000 lvl=info msg=\"started tunnel\" obj=tunnels name=http-8237-24e0cc12-b653-4057-b550-6d38ac6678f5 addr=http://localhost:8237 url=https://692a-35-236-247-36.ngrok-free.app\u001b[0m\n"
          ]
        },
        {
          "output_type": "stream",
          "name": "stderr",
          "text": [
            "INFO:pyngrok.process.ngrok:t=2023-12-29T22:15:07+0000 lvl=info msg=end pg=/api/tunnels id=61be39f6e6d043f2 status=201 dur=33.194393ms\n"
          ]
        },
        {
          "output_type": "stream",
          "name": "stdout",
          "text": [
            "\u001b[1;35mt=2023-12-29T22:15:07+0000 lvl=info msg=end pg=/api/tunnels id=61be39f6e6d043f2 status=201 dur=33.194393ms\u001b[0m\n",
            "\u001b[1;35mNumExpr defaulting to 2 threads.\u001b[0m\n",
            "\u001b[1;35mDeploying a local ZenML server with name 'local'.\u001b[0m\n",
            "\u001b[1;35mStarting ZenML Server as blocking process... press CTRL+C once to stop it.\u001b[0m\n",
            "\u001b[32mINFO\u001b[0m:     Started server process [\u001b[36m4548\u001b[0m]\n",
            "\u001b[32mINFO\u001b[0m:     Waiting for application startup.\n",
            "\u001b[32mINFO\u001b[0m:     Application startup complete.\n",
            "\u001b[32mINFO\u001b[0m:     Uvicorn running on \u001b[1mhttp://127.0.0.1:8237\u001b[0m (Press CTRL+C to quit)\n"
          ]
        },
        {
          "output_type": "stream",
          "name": "stderr",
          "text": [
            "INFO:pyngrok.process.ngrok:t=2023-12-29T22:15:25+0000 lvl=info msg=\"join connections\" obj=join id=979998a0f63f l=127.0.0.1:8237 r=208.52.57.68:64779\n"
          ]
        },
        {
          "output_type": "stream",
          "name": "stdout",
          "text": [
            "\u001b[1;35mt=2023-12-29T22:15:25+0000 lvl=info msg=\"join connections\" obj=join id=979998a0f63f l=127.0.0.1:8237 r=208.52.57.68:64779\u001b[0m\n",
            "\u001b[32mINFO\u001b[0m:     208.52.57.68:0 - \"\u001b[1mGET / HTTP/1.1\u001b[0m\" \u001b[32m200 OK\u001b[0m\n"
          ]
        },
        {
          "output_type": "stream",
          "name": "stderr",
          "text": [
            "INFO:pyngrok.process.ngrok:t=2023-12-29T22:15:26+0000 lvl=info msg=\"join connections\" obj=join id=fda6b33122b8 l=127.0.0.1:8237 r=208.52.57.68:64779\n"
          ]
        },
        {
          "output_type": "stream",
          "name": "stdout",
          "text": [
            "\u001b[1;35mt=2023-12-29T22:15:26+0000 lvl=info msg=\"join connections\" obj=join id=fda6b33122b8 l=127.0.0.1:8237 r=208.52.57.68:64779\u001b[0m\n"
          ]
        },
        {
          "output_type": "stream",
          "name": "stderr",
          "text": [
            "INFO:pyngrok.process.ngrok:t=2023-12-29T22:15:26+0000 lvl=info msg=\"join connections\" obj=join id=b50aa7c05a4f l=127.0.0.1:8237 r=208.52.57.68:64779\n"
          ]
        },
        {
          "output_type": "stream",
          "name": "stdout",
          "text": [
            "\u001b[1;35mt=2023-12-29T22:15:26+0000 lvl=info msg=\"join connections\" obj=join id=b50aa7c05a4f l=127.0.0.1:8237 r=208.52.57.68:64779\u001b[0m\n"
          ]
        },
        {
          "output_type": "stream",
          "name": "stderr",
          "text": [
            "INFO:pyngrok.process.ngrok:t=2023-12-29T22:15:26+0000 lvl=info msg=\"join connections\" obj=join id=3c69d4ed76c7 l=127.0.0.1:8237 r=208.52.57.68:64779\n"
          ]
        },
        {
          "output_type": "stream",
          "name": "stdout",
          "text": [
            "\u001b[1;35mt=2023-12-29T22:15:26+0000 lvl=info msg=\"join connections\" obj=join id=3c69d4ed76c7 l=127.0.0.1:8237 r=208.52.57.68:64779\u001b[0m\n",
            "\u001b[32mINFO\u001b[0m:     208.52.57.68:0 - \"\u001b[1mGET /css/2.5b37d44a.chunk.css HTTP/1.1\u001b[0m\" \u001b[32m200 OK\u001b[0m\n",
            "\u001b[32mINFO\u001b[0m:     208.52.57.68:0 - \"\u001b[1mGET /js/main.0472e82f.chunk.js HTTP/1.1\u001b[0m\" \u001b[32m200 OK\u001b[0m\n",
            "\u001b[32mINFO\u001b[0m:     208.52.57.68:0 - \"\u001b[1mGET /js/2.c7557a74.chunk.js HTTP/1.1\u001b[0m\" \u001b[32m200 OK\u001b[0m\n",
            "\u001b[32mINFO\u001b[0m:     208.52.57.68:0 - \"\u001b[1mGET /css/main.77e46c35.chunk.css HTTP/1.1\u001b[0m\" \u001b[32m200 OK\u001b[0m\n",
            "\u001b[32mINFO\u001b[0m:     208.52.57.68:0 - \"\u001b[1mGET /favicon.ico HTTP/1.1\u001b[0m\" \u001b[32m200 OK\u001b[0m\n"
          ]
        },
        {
          "output_type": "stream",
          "name": "stderr",
          "text": [
            "INFO:pyngrok.process.ngrok:t=2023-12-29T22:15:27+0000 lvl=info msg=\"join connections\" obj=join id=77667170008c l=127.0.0.1:8237 r=208.52.57.68:64779\n"
          ]
        },
        {
          "output_type": "stream",
          "name": "stdout",
          "text": [
            "\u001b[32mINFO\u001b[0m:     208.52.57.68:0 - \"\u001b[1mGET /media/logo_small.4204397d.svg HTTP/1.1\u001b[0m\" \u001b[32m200 OK\u001b[0m\n",
            "\u001b[32mINFO\u001b[0m:     208.52.57.68:0 - \"\u001b[1mGET /api/v1/workspaces HTTP/1.1\u001b[0m\" \u001b[31m401 Unauthorized\u001b[0m\n",
            "\u001b[1;35mt=2023-12-29T22:15:27+0000 lvl=info msg=\"join connections\" obj=join id=77667170008c l=127.0.0.1:8237 r=208.52.57.68:64779\u001b[0m\n"
          ]
        },
        {
          "output_type": "stream",
          "name": "stderr",
          "text": [
            "INFO:pyngrok.process.ngrok:t=2023-12-29T22:15:28+0000 lvl=info msg=\"join connections\" obj=join id=b012652db515 l=127.0.0.1:8237 r=208.52.57.68:64779\n"
          ]
        },
        {
          "output_type": "stream",
          "name": "stdout",
          "text": [
            "\u001b[1;35mt=2023-12-29T22:15:28+0000 lvl=info msg=\"join connections\" obj=join id=b012652db515 l=127.0.0.1:8237 r=208.52.57.68:64779\u001b[0m\n"
          ]
        },
        {
          "output_type": "stream",
          "name": "stderr",
          "text": [
            "INFO:pyngrok.process.ngrok:t=2023-12-29T22:15:28+0000 lvl=info msg=\"join connections\" obj=join id=22e1e5ffb8c0 l=127.0.0.1:8237 r=208.52.57.68:64779\n"
          ]
        },
        {
          "output_type": "stream",
          "name": "stdout",
          "text": [
            "\u001b[1;35mt=2023-12-29T22:15:28+0000 lvl=info msg=\"join connections\" obj=join id=22e1e5ffb8c0 l=127.0.0.1:8237 r=208.52.57.68:64779\u001b[0m\n",
            "\u001b[32mINFO\u001b[0m:     208.52.57.68:0 - \"\u001b[1mGET /api/v1/info HTTP/1.1\u001b[0m\" \u001b[32m200 OK\u001b[0m\n",
            "\u001b[32mINFO\u001b[0m:     208.52.57.68:0 - \"\u001b[1mGET /media/Rubik-Regular.b3d0902b.ttf HTTP/1.1\u001b[0m\" \u001b[32m200 OK\u001b[0m\n",
            "\u001b[32mINFO\u001b[0m:     208.52.57.68:0 - \"\u001b[1mGET /media/Rubik-Medium.c87313aa.ttf HTTP/1.1\u001b[0m\" \u001b[32m200 OK\u001b[0m\n",
            "\u001b[32mINFO\u001b[0m:     208.52.57.68:0 - \"\u001b[1mGET /api/v1/info HTTP/1.1\u001b[0m\" \u001b[32m200 OK\u001b[0m\n",
            "\u001b[31mAuthentication error: invalid username or password\u001b[0m\n",
            "\u001b[31mAPI error\u001b[0m\n",
            "Traceback (most recent call last):\n",
            "  File \"/usr/local/lib/python3.10/dist-packages/zenml/zen_server/utils.py\", line 243, in decorated\n",
            "    return func(*args, **kwargs)\n",
            "  File \"/usr/local/lib/python3.10/dist-packages/zenml/zen_server/routers/auth_endpoints.py\", line 278, in token\n",
            "    auth_context = authenticate_credentials(\n",
            "  File \"/usr/local/lib/python3.10/dist-packages/zenml/zen_server/auth.py\", line 221, in authenticate_credentials\n",
            "    raise AuthorizationException(error)\n",
            "zenml.exceptions.AuthorizationException: Authentication error: invalid username or password\n",
            "\u001b[32mINFO\u001b[0m:     208.52.57.68:0 - \"\u001b[1mPOST /api/v1/login HTTP/1.1\u001b[0m\" \u001b[31m401 Unauthorized\u001b[0m\n"
          ]
        },
        {
          "output_type": "stream",
          "name": "stderr",
          "text": [
            "INFO:pyngrok.process.ngrok:t=2023-12-29T22:16:18+0000 lvl=info msg=\"join connections\" obj=join id=eb3067e353d9 l=127.0.0.1:8237 r=208.52.57.68:64779\n"
          ]
        },
        {
          "output_type": "stream",
          "name": "stdout",
          "text": [
            "\u001b[1;35mt=2023-12-29T22:16:18+0000 lvl=info msg=\"join connections\" obj=join id=eb3067e353d9 l=127.0.0.1:8237 r=208.52.57.68:64779\u001b[0m\n"
          ]
        },
        {
          "output_type": "stream",
          "name": "stderr",
          "text": [
            "INFO:pyngrok.process.ngrok:t=2023-12-29T22:16:18+0000 lvl=info msg=\"join connections\" obj=join id=7e30fa7d4aef l=127.0.0.1:8237 r=208.52.57.68:64779\n"
          ]
        },
        {
          "output_type": "stream",
          "name": "stdout",
          "text": [
            "\u001b[32mINFO\u001b[0m:     208.52.57.68:0 - \"\u001b[1mPOST /api/v1/login HTTP/1.1\u001b[0m\" \u001b[32m200 OK\u001b[0m\n",
            "\u001b[1;35mGot token from cookie\u001b[0m\n",
            "\u001b[1;35mt=2023-12-29T22:16:18+0000 lvl=info msg=\"join connections\" obj=join id=7e30fa7d4aef l=127.0.0.1:8237 r=208.52.57.68:64779\u001b[0m\n"
          ]
        },
        {
          "output_type": "stream",
          "name": "stderr",
          "text": [
            "INFO:pyngrok.process.ngrok:t=2023-12-29T22:16:18+0000 lvl=info msg=\"join connections\" obj=join id=4cd7168b27bc l=127.0.0.1:8237 r=208.52.57.68:64779\n"
          ]
        },
        {
          "output_type": "stream",
          "name": "stdout",
          "text": [
            "\u001b[1;35mt=2023-12-29T22:16:18+0000 lvl=info msg=\"join connections\" obj=join id=4cd7168b27bc l=127.0.0.1:8237 r=208.52.57.68:64779\u001b[0m\n"
          ]
        },
        {
          "output_type": "stream",
          "name": "stderr",
          "text": [
            "INFO:pyngrok.process.ngrok:t=2023-12-29T22:16:18+0000 lvl=info msg=\"join connections\" obj=join id=94a0618d4249 l=127.0.0.1:8237 r=208.52.57.68:64779\n"
          ]
        },
        {
          "output_type": "stream",
          "name": "stdout",
          "text": [
            "\u001b[1;35mt=2023-12-29T22:16:18+0000 lvl=info msg=\"join connections\" obj=join id=94a0618d4249 l=127.0.0.1:8237 r=208.52.57.68:64779\u001b[0m\n"
          ]
        },
        {
          "output_type": "stream",
          "name": "stderr",
          "text": [
            "INFO:pyngrok.process.ngrok:t=2023-12-29T22:16:18+0000 lvl=info msg=\"join connections\" obj=join id=15ca6e352144 l=127.0.0.1:8237 r=208.52.57.68:64779\n"
          ]
        },
        {
          "output_type": "stream",
          "name": "stdout",
          "text": [
            "\u001b[32mINFO\u001b[0m:     208.52.57.68:0 - \"\u001b[1mGET /api/v1/workspaces HTTP/1.1\u001b[0m\" \u001b[32m200 OK\u001b[0m\n",
            "\u001b[1;35mGot token from cookie\u001b[0m\n",
            "\u001b[1;35mGot token from cookie\u001b[0m\n",
            "\u001b[32mINFO\u001b[0m:     208.52.57.68:0 - \"\u001b[1mGET /api/v1/current-user HTTP/1.1\u001b[0m\" \u001b[32m200 OK\u001b[0m\n",
            "\u001b[32mINFO\u001b[0m:     208.52.57.68:0 - \"\u001b[1mGET /api/v1/component-types HTTP/1.1\u001b[0m\" \u001b[32m200 OK\u001b[0m\n",
            "\u001b[32mINFO\u001b[0m:     208.52.57.68:0 - \"\u001b[1mGET /api/v1/info HTTP/1.1\u001b[0m\" \u001b[32m200 OK\u001b[0m\n",
            "\u001b[1;35mt=2023-12-29T22:16:18+0000 lvl=info msg=\"join connections\" obj=join id=15ca6e352144 l=127.0.0.1:8237 r=208.52.57.68:64779\u001b[0m\n",
            "\u001b[1;35mGot token from cookie\u001b[0m\n",
            "\u001b[32mINFO\u001b[0m:     208.52.57.68:0 - \"\u001b[1mGET /api/v1/users?hydrate=true&size=1000&page=1 HTTP/1.1\u001b[0m\" \u001b[32m200 OK\u001b[0m\n",
            "\u001b[1;35mGot token from cookie\u001b[0m\n",
            "\u001b[32mINFO\u001b[0m:     208.52.57.68:0 - \"\u001b[1mGET /api/v1/workspaces HTTP/1.1\u001b[0m\" \u001b[32m200 OK\u001b[0m\n",
            "\u001b[1;35mGot token from cookie\u001b[0m\n",
            "\u001b[1;35mGot token from cookie\u001b[0m\n",
            "\u001b[32mINFO\u001b[0m:     208.52.57.68:0 - \"\u001b[1mGET /api/v1/users?hydrate=true&size=1000&page=1 HTTP/1.1\u001b[0m\" \u001b[32m200 OK\u001b[0m\n",
            "\u001b[32mINFO\u001b[0m:     208.52.57.68:0 - \"\u001b[1mGET /api/v1/workspaces/default/statistics HTTP/1.1\u001b[0m\" \u001b[32m200 OK\u001b[0m\n"
          ]
        },
        {
          "output_type": "stream",
          "name": "stderr",
          "text": [
            "INFO:pyngrok.process.ngrok:t=2023-12-29T22:16:25+0000 lvl=info msg=\"join connections\" obj=join id=5551419176ea l=127.0.0.1:8237 r=208.52.57.68:64779\n"
          ]
        },
        {
          "output_type": "stream",
          "name": "stdout",
          "text": [
            "\u001b[1;35mt=2023-12-29T22:16:25+0000 lvl=info msg=\"join connections\" obj=join id=5551419176ea l=127.0.0.1:8237 r=208.52.57.68:64779\u001b[0m\n"
          ]
        },
        {
          "output_type": "stream",
          "name": "stderr",
          "text": [
            "INFO:pyngrok.process.ngrok:t=2023-12-29T22:16:25+0000 lvl=info msg=\"join connections\" obj=join id=293280a3f7a9 l=127.0.0.1:8237 r=208.52.57.68:64779\n"
          ]
        },
        {
          "output_type": "stream",
          "name": "stdout",
          "text": [
            "\u001b[1;35mt=2023-12-29T22:16:25+0000 lvl=info msg=\"join connections\" obj=join id=293280a3f7a9 l=127.0.0.1:8237 r=208.52.57.68:64779\u001b[0m\n"
          ]
        },
        {
          "output_type": "stream",
          "name": "stderr",
          "text": [
            "INFO:pyngrok.process.ngrok:t=2023-12-29T22:16:25+0000 lvl=info msg=\"join connections\" obj=join id=4179ac4b5142 l=127.0.0.1:8237 r=208.52.57.68:64779\n"
          ]
        },
        {
          "output_type": "stream",
          "name": "stdout",
          "text": [
            "\u001b[1;35mt=2023-12-29T22:16:25+0000 lvl=info msg=\"join connections\" obj=join id=4179ac4b5142 l=127.0.0.1:8237 r=208.52.57.68:64779\u001b[0m\n",
            "\u001b[1;35mGot token from cookie\u001b[0m\n",
            "\u001b[1;35mGot token from cookie\u001b[0m\n",
            "\u001b[32mINFO\u001b[0m:     208.52.57.68:0 - \"\u001b[1mGET /api/v1/info HTTP/1.1\u001b[0m\" \u001b[32m200 OK\u001b[0m\n",
            "\u001b[32mINFO\u001b[0m:     208.52.57.68:0 - \"\u001b[1mGET /api/v1/workspaces HTTP/1.1\u001b[0m\" \u001b[32m200 OK\u001b[0m\n",
            "\u001b[32mINFO\u001b[0m:     208.52.57.68:0 - \"\u001b[1mGET /api/v1/workspaces/default/stacks?sort_by=desc:created&logical_operator=and&page=1&size=10 HTTP/1.1\u001b[0m\" \u001b[32m200 OK\u001b[0m\n",
            "\u001b[32mINFO\u001b[0m:     208.52.57.68:0 - \"\u001b[1mGET /api/v1/info HTTP/1.1\u001b[0m\" \u001b[32m200 OK\u001b[0m\n"
          ]
        },
        {
          "output_type": "stream",
          "name": "stderr",
          "text": [
            "INFO:pyngrok.process.ngrok:t=2023-12-29T22:16:28+0000 lvl=info msg=\"join connections\" obj=join id=5596c281f4f1 l=127.0.0.1:8237 r=208.52.57.68:64779\n"
          ]
        },
        {
          "output_type": "stream",
          "name": "stdout",
          "text": [
            "\u001b[1;35mGot token from cookie\u001b[0m\n",
            "\u001b[1;35mt=2023-12-29T22:16:28+0000 lvl=info msg=\"join connections\" obj=join id=5596c281f4f1 l=127.0.0.1:8237 r=208.52.57.68:64779\u001b[0m\n"
          ]
        },
        {
          "output_type": "stream",
          "name": "stderr",
          "text": [
            "INFO:pyngrok.process.ngrok:t=2023-12-29T22:16:28+0000 lvl=info msg=\"join connections\" obj=join id=d87a9ff9712d l=127.0.0.1:8237 r=208.52.57.68:64779\n"
          ]
        },
        {
          "output_type": "stream",
          "name": "stdout",
          "text": [
            "\u001b[1;35mt=2023-12-29T22:16:28+0000 lvl=info msg=\"join connections\" obj=join id=d87a9ff9712d l=127.0.0.1:8237 r=208.52.57.68:64779\u001b[0m\n",
            "\u001b[32mINFO\u001b[0m:     208.52.57.68:0 - \"\u001b[1mGET /api/v1/info HTTP/1.1\u001b[0m\" \u001b[32m200 OK\u001b[0m\n",
            "\u001b[32mINFO\u001b[0m:     208.52.57.68:0 - \"\u001b[1mGET /api/v1/stacks/7c21255f-e499-44bf-bde9-a86855b880cf HTTP/1.1\u001b[0m\" \u001b[32m200 OK\u001b[0m\n",
            "\u001b[1;35mGot token from cookie\u001b[0m\n",
            "\u001b[1;35mGot token from cookie\u001b[0m\n",
            "\u001b[32mINFO\u001b[0m:     208.52.57.68:0 - \"\u001b[1mGET /api/v1/workspaces HTTP/1.1\u001b[0m\" \u001b[32m200 OK\u001b[0m\n",
            "\u001b[32mINFO\u001b[0m:     208.52.57.68:0 - \"\u001b[1mGET /api/v1/flavors?size=1000 HTTP/1.1\u001b[0m\" \u001b[32m200 OK\u001b[0m\n",
            "\u001b[1;35mGot token from cookie\u001b[0m\n",
            "\u001b[1;35mGot token from cookie\u001b[0m\n",
            "\u001b[32mINFO\u001b[0m:     208.52.57.68:0 - \"\u001b[1mGET /api/v1/components/91c50b5a-3be5-4386-9f0f-c9e78673d2e1 HTTP/1.1\u001b[0m\" \u001b[32m200 OK\u001b[0m\n",
            "\u001b[32mINFO\u001b[0m:     208.52.57.68:0 - \"\u001b[1mGET /api/v1/secrets?size=1000 HTTP/1.1\u001b[0m\" \u001b[32m200 OK\u001b[0m\n",
            "\u001b[1;35mGot token from cookie\u001b[0m\n",
            "\u001b[32mINFO\u001b[0m:     208.52.57.68:0 - \"\u001b[1mGET /api/v1/flavors?hydrate=true&type=orchestrator&name=local HTTP/1.1\u001b[0m\" \u001b[32m200 OK\u001b[0m\n",
            "\u001b[1;35mGot token from cookie\u001b[0m\n",
            "\u001b[32mINFO\u001b[0m:     208.52.57.68:0 - \"\u001b[1mGET /api/v1/flavors/3c43d3b1-8bb6-4804-aba6-06bb11a17edf HTTP/1.1\u001b[0m\" \u001b[32m200 OK\u001b[0m\n",
            "\u001b[1;35mGot token from cookie\u001b[0m\n",
            "\u001b[32mINFO\u001b[0m:     208.52.57.68:0 - \"\u001b[1mGET /api/v1/workspaces/default/components?scope_type=orchestrator&page=1&size=1 HTTP/1.1\u001b[0m\" \u001b[32m200 OK\u001b[0m\n"
          ]
        },
        {
          "output_type": "stream",
          "name": "stderr",
          "text": [
            "INFO:pyngrok.process.ngrok:t=2023-12-29T22:16:38+0000 lvl=info msg=\"join connections\" obj=join id=45a2e3adb9b0 l=127.0.0.1:8237 r=208.52.57.68:64779\n"
          ]
        },
        {
          "output_type": "stream",
          "name": "stdout",
          "text": [
            "\u001b[1;35mt=2023-12-29T22:16:38+0000 lvl=info msg=\"join connections\" obj=join id=45a2e3adb9b0 l=127.0.0.1:8237 r=208.52.57.68:64779\u001b[0m\n"
          ]
        },
        {
          "output_type": "stream",
          "name": "stderr",
          "text": [
            "INFO:pyngrok.process.ngrok:t=2023-12-29T22:16:38+0000 lvl=info msg=\"join connections\" obj=join id=e8abebe36685 l=127.0.0.1:8237 r=208.52.57.68:64779\n"
          ]
        },
        {
          "output_type": "stream",
          "name": "stdout",
          "text": [
            "\u001b[1;35mt=2023-12-29T22:16:38+0000 lvl=info msg=\"join connections\" obj=join id=e8abebe36685 l=127.0.0.1:8237 r=208.52.57.68:64779\u001b[0m\n"
          ]
        },
        {
          "output_type": "stream",
          "name": "stderr",
          "text": [
            "INFO:pyngrok.process.ngrok:t=2023-12-29T22:16:38+0000 lvl=info msg=\"join connections\" obj=join id=e419a7590a31 l=127.0.0.1:8237 r=208.52.57.68:64779\n"
          ]
        },
        {
          "output_type": "stream",
          "name": "stdout",
          "text": [
            "\u001b[1;35mt=2023-12-29T22:16:38+0000 lvl=info msg=\"join connections\" obj=join id=e419a7590a31 l=127.0.0.1:8237 r=208.52.57.68:64779\u001b[0m\n",
            "\u001b[1;35mGot token from cookie\u001b[0m\n",
            "\u001b[32mINFO\u001b[0m:     208.52.57.68:0 - \"\u001b[1mGET /api/v1/workspaces HTTP/1.1\u001b[0m\" \u001b[32m200 OK\u001b[0m\n",
            "\u001b[1;35mGot token from cookie\u001b[0m\n",
            "\u001b[1;35mGot token from cookie\u001b[0m\n",
            "\u001b[32mINFO\u001b[0m:     208.52.57.68:0 - \"\u001b[1mGET /api/v1/info HTTP/1.1\u001b[0m\" \u001b[32m200 OK\u001b[0m\n",
            "\u001b[32mINFO\u001b[0m:     208.52.57.68:0 - \"\u001b[1mGET /api/v1/component-types HTTP/1.1\u001b[0m\" \u001b[32m200 OK\u001b[0m\n",
            "\u001b[32mINFO\u001b[0m:     208.52.57.68:0 - \"\u001b[1mGET /api/v1/components/91c50b5a-3be5-4386-9f0f-c9e78673d2e1 HTTP/1.1\u001b[0m\" \u001b[32m200 OK\u001b[0m\n",
            "\u001b[1;35mGot token from cookie\u001b[0m\n",
            "\u001b[32mINFO\u001b[0m:     208.52.57.68:0 - \"\u001b[1mGET /api/v1/flavors?hydrate=true&type=orchestrator&name=local HTTP/1.1\u001b[0m\" \u001b[32m200 OK\u001b[0m\n",
            "\u001b[1;35mGot token from cookie\u001b[0m\n",
            "\u001b[32mINFO\u001b[0m:     208.52.57.68:0 - \"\u001b[1mGET /api/v1/flavors/3c43d3b1-8bb6-4804-aba6-06bb11a17edf HTTP/1.1\u001b[0m\" \u001b[32m200 OK\u001b[0m\n"
          ]
        },
        {
          "output_type": "stream",
          "name": "stderr",
          "text": [
            "INFO:pyngrok.process.ngrok:t=2023-12-29T22:16:42+0000 lvl=info msg=\"join connections\" obj=join id=14b0b64ddd81 l=127.0.0.1:8237 r=208.52.57.68:64779\n"
          ]
        },
        {
          "output_type": "stream",
          "name": "stdout",
          "text": [
            "\u001b[1;35mt=2023-12-29T22:16:42+0000 lvl=info msg=\"join connections\" obj=join id=14b0b64ddd81 l=127.0.0.1:8237 r=208.52.57.68:64779\u001b[0m\n",
            "\u001b[1;35mGot token from cookie\u001b[0m\n",
            "\u001b[1;35mGot token from cookie\u001b[0m\n",
            "\u001b[32mINFO\u001b[0m:     208.52.57.68:0 - \"\u001b[1mGET /api/v1/workspaces HTTP/1.1\u001b[0m\" \u001b[32m200 OK\u001b[0m\n",
            "\u001b[32mINFO\u001b[0m:     208.52.57.68:0 - \"\u001b[1mGET /api/v1/workspaces/default/pipelines?sort_by=desc:created&logical_operator=and&page=1&size=10 HTTP/1.1\u001b[0m\" \u001b[32m200 OK\u001b[0m\n",
            "\u001b[32mINFO\u001b[0m:     208.52.57.68:0 - \"\u001b[1mGET /api/v1/info HTTP/1.1\u001b[0m\" \u001b[32m200 OK\u001b[0m\n"
          ]
        },
        {
          "output_type": "stream",
          "name": "stderr",
          "text": [
            "INFO:pyngrok.process.ngrok:t=2023-12-29T22:16:46+0000 lvl=info msg=\"join connections\" obj=join id=dab1b2483d53 l=127.0.0.1:8237 r=208.52.57.68:64779\n"
          ]
        },
        {
          "output_type": "stream",
          "name": "stdout",
          "text": [
            "\u001b[1;35mGot token from cookie\u001b[0m\n",
            "\u001b[1;35mGot token from cookie\u001b[0m\n",
            "\u001b[32mINFO\u001b[0m:     208.52.57.68:0 - \"\u001b[1mGET /api/v1/workspaces HTTP/1.1\u001b[0m\" \u001b[32m200 OK\u001b[0m\n",
            "\u001b[1;35mt=2023-12-29T22:16:46+0000 lvl=info msg=\"join connections\" obj=join id=dab1b2483d53 l=127.0.0.1:8237 r=208.52.57.68:64779\u001b[0m\n"
          ]
        },
        {
          "output_type": "stream",
          "name": "stderr",
          "text": [
            "INFO:pyngrok.process.ngrok:t=2023-12-29T22:16:46+0000 lvl=info msg=\"join connections\" obj=join id=532d1d3ff5a0 l=127.0.0.1:8237 r=208.52.57.68:64779\n"
          ]
        },
        {
          "output_type": "stream",
          "name": "stdout",
          "text": [
            "\u001b[1;35mt=2023-12-29T22:16:46+0000 lvl=info msg=\"join connections\" obj=join id=532d1d3ff5a0 l=127.0.0.1:8237 r=208.52.57.68:64779\u001b[0m\n",
            "\u001b[1;35mGot token from cookie\u001b[0m\n",
            "\u001b[32mINFO\u001b[0m:     208.52.57.68:0 - \"\u001b[1mGET /api/v1/info HTTP/1.1\u001b[0m\" \u001b[32m200 OK\u001b[0m\n",
            "\u001b[32mINFO\u001b[0m:     208.52.57.68:0 - \"\u001b[1mGET /api/v1/pipelines/70d43328-d991-42e7-b053-bf8ee39a5058 HTTP/1.1\u001b[0m\" \u001b[32m200 OK\u001b[0m\n",
            "\u001b[32mINFO\u001b[0m:     208.52.57.68:0 - \"\u001b[1mGET /api/v1/runs?pipeline_id=70d43328-d991-42e7-b053-bf8ee39a5058&sort_by=desc:created&logical_operator=and&page=1&size=10 HTTP/1.1\u001b[0m\" \u001b[32m200 OK\u001b[0m\n"
          ]
        },
        {
          "output_type": "stream",
          "name": "stderr",
          "text": [
            "INFO:pyngrok.process.ngrok:t=2023-12-29T22:16:51+0000 lvl=info msg=\"join connections\" obj=join id=c9bac2332db6 l=127.0.0.1:8237 r=208.52.57.68:64779\n"
          ]
        },
        {
          "output_type": "stream",
          "name": "stdout",
          "text": [
            "\u001b[1;35mGot token from cookie\u001b[0m\n",
            "\u001b[1;35mGot token from cookie\u001b[0m\n",
            "\u001b[32mINFO\u001b[0m:     208.52.57.68:0 - \"\u001b[1mGET /api/v1/workspaces HTTP/1.1\u001b[0m\" \u001b[32m200 OK\u001b[0m\n",
            "\u001b[1;35mt=2023-12-29T22:16:51+0000 lvl=info msg=\"join connections\" obj=join id=c9bac2332db6 l=127.0.0.1:8237 r=208.52.57.68:64779\u001b[0m\n",
            "\u001b[32mINFO\u001b[0m:     208.52.57.68:0 - \"\u001b[1mGET /api/v1/info HTTP/1.1\u001b[0m\" \u001b[32m200 OK\u001b[0m\n",
            "\u001b[32mINFO\u001b[0m:     208.52.57.68:0 - \"\u001b[1mGET /api/v1/runs/3b94ae78-1a9e-4360-be5a-83bbe736c2a3 HTTP/1.1\u001b[0m\" \u001b[32m200 OK\u001b[0m\n",
            "\u001b[1;35mGot token from cookie\u001b[0m\n",
            "\u001b[32mINFO\u001b[0m:     208.52.57.68:0 - \"\u001b[1mGET /api/v1/runs/3b94ae78-1a9e-4360-be5a-83bbe736c2a3/graph HTTP/1.1\u001b[0m\" \u001b[32m200 OK\u001b[0m\n",
            "\u001b[1;35mGot token from cookie\u001b[0m\n",
            "\u001b[32mINFO\u001b[0m:     208.52.57.68:0 - \"\u001b[1mGET /media/arrowClose.cbd53f3f.svg HTTP/1.1\u001b[0m\" \u001b[32m200 OK\u001b[0m\n",
            "\u001b[32mINFO\u001b[0m:     208.52.57.68:0 - \"\u001b[1mGET /api/v1/run-metadata?pipeline_run_id=3b94ae78-1a9e-4360-be5a-83bbe736c2a3&key=orchestrator_url HTTP/1.1\u001b[0m\" \u001b[32m200 OK\u001b[0m\n"
          ]
        },
        {
          "output_type": "stream",
          "name": "stderr",
          "text": [
            "INFO:pyngrok.process.ngrok:t=2023-12-29T22:17:11+0000 lvl=info msg=\"join connections\" obj=join id=47fd494093ca l=127.0.0.1:8237 r=208.52.57.68:64779\n"
          ]
        },
        {
          "output_type": "stream",
          "name": "stdout",
          "text": [
            "\u001b[1;35mt=2023-12-29T22:17:11+0000 lvl=info msg=\"join connections\" obj=join id=47fd494093ca l=127.0.0.1:8237 r=208.52.57.68:64779\u001b[0m\n",
            "\u001b[32mINFO\u001b[0m:     208.52.57.68:0 - \"\u001b[1mGET /media/arrowOpen.6ceef0af.svg HTTP/1.1\u001b[0m\" \u001b[32m200 OK\u001b[0m\n"
          ]
        },
        {
          "output_type": "stream",
          "name": "stderr",
          "text": [
            "INFO:pyngrok.process.ngrok:t=2023-12-29T22:17:38+0000 lvl=info msg=\"join connections\" obj=join id=cfba2d8a9639 l=127.0.0.1:8237 r=208.52.57.68:64779\n"
          ]
        },
        {
          "output_type": "stream",
          "name": "stdout",
          "text": [
            "\u001b[1;35mt=2023-12-29T22:17:38+0000 lvl=info msg=\"join connections\" obj=join id=cfba2d8a9639 l=127.0.0.1:8237 r=208.52.57.68:64779\u001b[0m\n"
          ]
        },
        {
          "output_type": "stream",
          "name": "stderr",
          "text": [
            "INFO:pyngrok.process.ngrok:t=2023-12-29T22:17:38+0000 lvl=info msg=\"join connections\" obj=join id=6cde83dc9b38 l=127.0.0.1:8237 r=208.52.57.68:64779\n"
          ]
        },
        {
          "output_type": "stream",
          "name": "stdout",
          "text": [
            "\u001b[1;35mt=2023-12-29T22:17:38+0000 lvl=info msg=\"join connections\" obj=join id=6cde83dc9b38 l=127.0.0.1:8237 r=208.52.57.68:64779\u001b[0m\n"
          ]
        },
        {
          "output_type": "stream",
          "name": "stderr",
          "text": [
            "INFO:pyngrok.process.ngrok:t=2023-12-29T22:17:38+0000 lvl=info msg=\"join connections\" obj=join id=ed632be2bbf6 l=127.0.0.1:8237 r=208.52.57.68:64779\n"
          ]
        },
        {
          "output_type": "stream",
          "name": "stdout",
          "text": [
            "\u001b[1;35mt=2023-12-29T22:17:38+0000 lvl=info msg=\"join connections\" obj=join id=ed632be2bbf6 l=127.0.0.1:8237 r=208.52.57.68:64779\u001b[0m\n",
            "\u001b[1;35mGot token from cookie\u001b[0m\n",
            "\u001b[1;35mGot token from cookie\u001b[0m\n",
            "\u001b[32mINFO\u001b[0m:     208.52.57.68:0 - \"\u001b[1mGET /api/v1/info HTTP/1.1\u001b[0m\" \u001b[32m200 OK\u001b[0m\n",
            "\u001b[32mINFO\u001b[0m:     208.52.57.68:0 - \"\u001b[1mGET /api/v1/workspaces HTTP/1.1\u001b[0m\" \u001b[32m200 OK\u001b[0m\n",
            "\u001b[32mINFO\u001b[0m:     208.52.57.68:0 - \"\u001b[1mGET /api/v1/runs/3b94ae78-1a9e-4360-be5a-83bbe736c2a3 HTTP/1.1\u001b[0m\" \u001b[32m200 OK\u001b[0m\n",
            "\u001b[1;35mGot token from cookie\u001b[0m\n",
            "\u001b[32mINFO\u001b[0m:     208.52.57.68:0 - \"\u001b[1mGET /api/v1/runs/3b94ae78-1a9e-4360-be5a-83bbe736c2a3/graph HTTP/1.1\u001b[0m\" \u001b[32m200 OK\u001b[0m\n",
            "\u001b[1;35mGot token from cookie\u001b[0m\n",
            "\u001b[32mINFO\u001b[0m:     208.52.57.68:0 - \"\u001b[1mGET /api/v1/run-metadata?pipeline_run_id=3b94ae78-1a9e-4360-be5a-83bbe736c2a3&key=orchestrator_url HTTP/1.1\u001b[0m\" \u001b[32m200 OK\u001b[0m\n"
          ]
        },
        {
          "output_type": "stream",
          "name": "stderr",
          "text": [
            "INFO:pyngrok.process.ngrok:t=2023-12-29T22:17:44+0000 lvl=info msg=\"join connections\" obj=join id=b6655d8d1dcd l=127.0.0.1:8237 r=208.52.57.68:64779\n"
          ]
        },
        {
          "output_type": "stream",
          "name": "stdout",
          "text": [
            "\u001b[1;35mGot token from cookie\u001b[0m\n",
            "\u001b[32mINFO\u001b[0m:     208.52.57.68:0 - \"\u001b[1mGET /api/v1/workspaces HTTP/1.1\u001b[0m\" \u001b[32m200 OK\u001b[0m\n",
            "\u001b[1;35mt=2023-12-29T22:17:44+0000 lvl=info msg=\"join connections\" obj=join id=b6655d8d1dcd l=127.0.0.1:8237 r=208.52.57.68:64779\u001b[0m\n"
          ]
        },
        {
          "output_type": "stream",
          "name": "stderr",
          "text": [
            "INFO:pyngrok.process.ngrok:t=2023-12-29T22:17:44+0000 lvl=info msg=\"join connections\" obj=join id=75dc9c2494db l=127.0.0.1:8237 r=208.52.57.68:64779\n"
          ]
        },
        {
          "output_type": "stream",
          "name": "stdout",
          "text": [
            "\u001b[1;35mt=2023-12-29T22:17:44+0000 lvl=info msg=\"join connections\" obj=join id=75dc9c2494db l=127.0.0.1:8237 r=208.52.57.68:64779\u001b[0m\n",
            "\u001b[1;35mGot token from cookie\u001b[0m\n",
            "\u001b[32mINFO\u001b[0m:     208.52.57.68:0 - \"\u001b[1mGET /api/v1/info HTTP/1.1\u001b[0m\" \u001b[32m200 OK\u001b[0m\n",
            "\u001b[32mINFO\u001b[0m:     208.52.57.68:0 - \"\u001b[1mGET /api/v1/runs/3b94ae78-1a9e-4360-be5a-83bbe736c2a3 HTTP/1.1\u001b[0m\" \u001b[32m200 OK\u001b[0m\n",
            "\u001b[1;35mGot token from cookie\u001b[0m\n",
            "\u001b[32mINFO\u001b[0m:     208.52.57.68:0 - \"\u001b[1mGET /api/v1/runs/3b94ae78-1a9e-4360-be5a-83bbe736c2a3/graph HTTP/1.1\u001b[0m\" \u001b[32m200 OK\u001b[0m\n",
            "\u001b[1;35mGot token from cookie\u001b[0m\n",
            "\u001b[32mINFO\u001b[0m:     208.52.57.68:0 - \"\u001b[1mGET /api/v1/run-metadata?pipeline_run_id=3b94ae78-1a9e-4360-be5a-83bbe736c2a3&key=orchestrator_url HTTP/1.1\u001b[0m\" \u001b[32m200 OK\u001b[0m\n"
          ]
        },
        {
          "output_type": "stream",
          "name": "stderr",
          "text": [
            "INFO:pyngrok.process.ngrok:t=2023-12-29T22:17:53+0000 lvl=info msg=\"join connections\" obj=join id=8b763c1a4f99 l=127.0.0.1:8237 r=208.52.57.68:64779\n"
          ]
        },
        {
          "output_type": "stream",
          "name": "stdout",
          "text": [
            "\u001b[1;35mt=2023-12-29T22:17:53+0000 lvl=info msg=\"join connections\" obj=join id=8b763c1a4f99 l=127.0.0.1:8237 r=208.52.57.68:64779\u001b[0m\n"
          ]
        },
        {
          "output_type": "stream",
          "name": "stderr",
          "text": [
            "INFO:pyngrok.process.ngrok:t=2023-12-29T22:17:53+0000 lvl=info msg=\"join connections\" obj=join id=fe50d243699f l=127.0.0.1:8237 r=208.52.57.68:64779\n"
          ]
        },
        {
          "output_type": "stream",
          "name": "stdout",
          "text": [
            "\u001b[1;35mt=2023-12-29T22:17:53+0000 lvl=info msg=\"join connections\" obj=join id=fe50d243699f l=127.0.0.1:8237 r=208.52.57.68:64779\u001b[0m\n"
          ]
        },
        {
          "output_type": "stream",
          "name": "stderr",
          "text": [
            "INFO:pyngrok.process.ngrok:t=2023-12-29T22:17:53+0000 lvl=info msg=\"join connections\" obj=join id=150bd5b1ca8e l=127.0.0.1:8237 r=208.52.57.68:64779\n"
          ]
        },
        {
          "output_type": "stream",
          "name": "stdout",
          "text": [
            "\u001b[1;35mt=2023-12-29T22:17:53+0000 lvl=info msg=\"join connections\" obj=join id=150bd5b1ca8e l=127.0.0.1:8237 r=208.52.57.68:64779\u001b[0m\n",
            "\u001b[1;35mGot token from cookie\u001b[0m\n",
            "\u001b[1;35mGot token from cookie\u001b[0m\n",
            "\u001b[32mINFO\u001b[0m:     208.52.57.68:0 - \"\u001b[1mGET /api/v1/info HTTP/1.1\u001b[0m\" \u001b[32m200 OK\u001b[0m\n",
            "\u001b[32mINFO\u001b[0m:     208.52.57.68:0 - \"\u001b[1mGET /api/v1/workspaces HTTP/1.1\u001b[0m\" \u001b[32m200 OK\u001b[0m\n",
            "\u001b[32mINFO\u001b[0m:     208.52.57.68:0 - \"\u001b[1mGET /api/v1/workspaces/default/runs?sort_by=desc:created&logical_operator=and&page=1&size=10 HTTP/1.1\u001b[0m\" \u001b[32m200 OK\u001b[0m\n"
          ]
        },
        {
          "output_type": "stream",
          "name": "stderr",
          "text": [
            "INFO:pyngrok.process.ngrok:t=2023-12-29T22:17:58+0000 lvl=info msg=\"join connections\" obj=join id=972e3fe7a6af l=127.0.0.1:8237 r=208.52.57.68:64779\n"
          ]
        },
        {
          "output_type": "stream",
          "name": "stdout",
          "text": [
            "\u001b[1;35mt=2023-12-29T22:17:58+0000 lvl=info msg=\"join connections\" obj=join id=972e3fe7a6af l=127.0.0.1:8237 r=208.52.57.68:64779\u001b[0m\n",
            "\u001b[1;35mGot token from cookie\u001b[0m\n",
            "\u001b[32mINFO\u001b[0m:     208.52.57.68:0 - \"\u001b[1mGET /api/v1/workspaces/default/runs?sort_by=desc:created&logical_operator=and&page=1&size=10 HTTP/1.1\u001b[0m\" \u001b[32m200 OK\u001b[0m\n"
          ]
        },
        {
          "output_type": "stream",
          "name": "stderr",
          "text": [
            "INFO:pyngrok.process.ngrok:t=2023-12-29T22:18:01+0000 lvl=info msg=\"join connections\" obj=join id=95f8ea040881 l=127.0.0.1:8237 r=208.52.57.68:64779\n"
          ]
        },
        {
          "output_type": "stream",
          "name": "stdout",
          "text": [
            "\u001b[1;35mGot token from cookie\u001b[0m\n",
            "\u001b[32mINFO\u001b[0m:     208.52.57.68:0 - \"\u001b[1mGET /api/v1/workspaces HTTP/1.1\u001b[0m\" \u001b[32m200 OK\u001b[0m\n",
            "\u001b[1;35mt=2023-12-29T22:18:01+0000 lvl=info msg=\"join connections\" obj=join id=95f8ea040881 l=127.0.0.1:8237 r=208.52.57.68:64779\u001b[0m\n"
          ]
        },
        {
          "output_type": "stream",
          "name": "stderr",
          "text": [
            "INFO:pyngrok.process.ngrok:t=2023-12-29T22:18:01+0000 lvl=info msg=\"join connections\" obj=join id=b480afc0cfd9 l=127.0.0.1:8237 r=208.52.57.68:64779\n"
          ]
        },
        {
          "output_type": "stream",
          "name": "stdout",
          "text": [
            "\u001b[1;35mt=2023-12-29T22:18:01+0000 lvl=info msg=\"join connections\" obj=join id=b480afc0cfd9 l=127.0.0.1:8237 r=208.52.57.68:64779\u001b[0m\n",
            "\u001b[1;35mGot token from cookie\u001b[0m\n",
            "\u001b[32mINFO\u001b[0m:     208.52.57.68:0 - \"\u001b[1mGET /api/v1/info HTTP/1.1\u001b[0m\" \u001b[32m200 OK\u001b[0m\n",
            "\u001b[32mINFO\u001b[0m:     208.52.57.68:0 - \"\u001b[1mGET /api/v1/workspaces/default/pipelines?sort_by=desc:created&logical_operator=and&page=1&size=10 HTTP/1.1\u001b[0m\" \u001b[32m200 OK\u001b[0m\n"
          ]
        },
        {
          "output_type": "stream",
          "name": "stderr",
          "text": [
            "INFO:pyngrok.process.ngrok:t=2023-12-29T22:18:06+0000 lvl=info msg=\"join connections\" obj=join id=53e7a5cd4457 l=127.0.0.1:8237 r=208.52.57.68:64779\n"
          ]
        },
        {
          "output_type": "stream",
          "name": "stdout",
          "text": [
            "\u001b[1;35mt=2023-12-29T22:18:06+0000 lvl=info msg=\"join connections\" obj=join id=53e7a5cd4457 l=127.0.0.1:8237 r=208.52.57.68:64779\u001b[0m\n",
            "\u001b[1;35mGot token from cookie\u001b[0m\n",
            "\u001b[32mINFO\u001b[0m:     208.52.57.68:0 - \"\u001b[1mGET /api/v1/workspaces/default/pipelines?sort_by=desc:created&logical_operator=and&page=1&size=10 HTTP/1.1\u001b[0m\" \u001b[32m200 OK\u001b[0m\n"
          ]
        },
        {
          "output_type": "stream",
          "name": "stderr",
          "text": [
            "INFO:pyngrok.process.ngrok:t=2023-12-29T22:18:12+0000 lvl=info msg=\"join connections\" obj=join id=653e5c027bcf l=127.0.0.1:8237 r=208.52.57.68:64779\n"
          ]
        },
        {
          "output_type": "stream",
          "name": "stdout",
          "text": [
            "\u001b[1;35mt=2023-12-29T22:18:12+0000 lvl=info msg=\"join connections\" obj=join id=653e5c027bcf l=127.0.0.1:8237 r=208.52.57.68:64779\u001b[0m\n",
            "\u001b[1;35mGot token from cookie\u001b[0m\n",
            "\u001b[32mINFO\u001b[0m:     208.52.57.68:0 - \"\u001b[1mGET /api/v1/workspaces/default/pipelines?sort_by=desc:created&logical_operator=and&page=1&size=10 HTTP/1.1\u001b[0m\" \u001b[32m200 OK\u001b[0m\n"
          ]
        },
        {
          "output_type": "stream",
          "name": "stderr",
          "text": [
            "INFO:pyngrok.process.ngrok:t=2023-12-29T22:18:17+0000 lvl=info msg=\"join connections\" obj=join id=abf6fb7b8231 l=127.0.0.1:8237 r=208.52.57.68:64779\n"
          ]
        },
        {
          "output_type": "stream",
          "name": "stdout",
          "text": [
            "\u001b[1;35mt=2023-12-29T22:18:17+0000 lvl=info msg=\"join connections\" obj=join id=abf6fb7b8231 l=127.0.0.1:8237 r=208.52.57.68:64779\u001b[0m\n",
            "\u001b[1;35mGot token from cookie\u001b[0m\n",
            "\u001b[32mINFO\u001b[0m:     208.52.57.68:0 - \"\u001b[1mGET /api/v1/workspaces/default/pipelines?sort_by=desc:created&logical_operator=and&page=1&size=10 HTTP/1.1\u001b[0m\" \u001b[32m200 OK\u001b[0m\n"
          ]
        },
        {
          "output_type": "stream",
          "name": "stderr",
          "text": [
            "INFO:pyngrok.process.ngrok:t=2023-12-29T22:18:20+0000 lvl=info msg=\"join connections\" obj=join id=aacd9c10b3e7 l=127.0.0.1:8237 r=208.52.57.68:64779\n"
          ]
        },
        {
          "output_type": "stream",
          "name": "stdout",
          "text": [
            "\u001b[1;35mt=2023-12-29T22:18:20+0000 lvl=info msg=\"join connections\" obj=join id=aacd9c10b3e7 l=127.0.0.1:8237 r=208.52.57.68:64779\u001b[0m\n"
          ]
        },
        {
          "output_type": "stream",
          "name": "stderr",
          "text": [
            "INFO:pyngrok.process.ngrok:t=2023-12-29T22:18:20+0000 lvl=info msg=\"join connections\" obj=join id=29dfcbf3d9ea l=127.0.0.1:8237 r=208.52.57.68:64779\n"
          ]
        },
        {
          "output_type": "stream",
          "name": "stdout",
          "text": [
            "\u001b[1;35mGot token from cookie\u001b[0m\n",
            "\u001b[32mINFO\u001b[0m:     208.52.57.68:0 - \"\u001b[1mGET /api/v1/workspaces HTTP/1.1\u001b[0m\" \u001b[32m200 OK\u001b[0m\n",
            "\u001b[1;35mGot token from cookie\u001b[0m\n",
            "\u001b[1;35mt=2023-12-29T22:18:20+0000 lvl=info msg=\"join connections\" obj=join id=29dfcbf3d9ea l=127.0.0.1:8237 r=208.52.57.68:64779\u001b[0m\n"
          ]
        },
        {
          "output_type": "stream",
          "name": "stderr",
          "text": [
            "INFO:pyngrok.process.ngrok:t=2023-12-29T22:18:20+0000 lvl=info msg=\"join connections\" obj=join id=86c58d584e5c l=127.0.0.1:8237 r=208.52.57.68:64779\n"
          ]
        },
        {
          "output_type": "stream",
          "name": "stdout",
          "text": [
            "\u001b[1;35mt=2023-12-29T22:18:20+0000 lvl=info msg=\"join connections\" obj=join id=86c58d584e5c l=127.0.0.1:8237 r=208.52.57.68:64779\u001b[0m\n",
            "\u001b[1;35mGot token from cookie\u001b[0m\n",
            "\u001b[32mINFO\u001b[0m:     208.52.57.68:0 - \"\u001b[1mGET /api/v1/info HTTP/1.1\u001b[0m\" \u001b[32m200 OK\u001b[0m\n",
            "\u001b[32mINFO\u001b[0m:     208.52.57.68:0 - \"\u001b[1mGET /api/v1/pipelines/70d43328-d991-42e7-b053-bf8ee39a5058 HTTP/1.1\u001b[0m\" \u001b[32m200 OK\u001b[0m\n",
            "\u001b[32mINFO\u001b[0m:     208.52.57.68:0 - \"\u001b[1mGET /api/v1/runs?pipeline_id=70d43328-d991-42e7-b053-bf8ee39a5058&sort_by=desc:created&logical_operator=and&page=1&size=10 HTTP/1.1\u001b[0m\" \u001b[32m200 OK\u001b[0m\n"
          ]
        },
        {
          "output_type": "stream",
          "name": "stderr",
          "text": [
            "INFO:pyngrok.process.ngrok:t=2023-12-29T22:18:28+0000 lvl=info msg=\"join connections\" obj=join id=ba098353220d l=127.0.0.1:8237 r=208.52.57.68:64779\n"
          ]
        },
        {
          "output_type": "stream",
          "name": "stdout",
          "text": [
            "\u001b[1;35mt=2023-12-29T22:18:28+0000 lvl=info msg=\"join connections\" obj=join id=ba098353220d l=127.0.0.1:8237 r=208.52.57.68:64779\u001b[0m\n",
            "\u001b[1;35mGot token from cookie\u001b[0m\n",
            "\u001b[32mINFO\u001b[0m:     208.52.57.68:0 - \"\u001b[1mGET /api/v1/runs?pipeline_id=70d43328-d991-42e7-b053-bf8ee39a5058&sort_by=desc:created&logical_operator=and&page=1&size=10 HTTP/1.1\u001b[0m\" \u001b[32m200 OK\u001b[0m\n"
          ]
        },
        {
          "output_type": "stream",
          "name": "stderr",
          "text": [
            "INFO:pyngrok.process.ngrok:t=2023-12-29T22:18:34+0000 lvl=info msg=\"join connections\" obj=join id=684cc804e357 l=127.0.0.1:8237 r=208.52.57.68:64779\n"
          ]
        },
        {
          "output_type": "stream",
          "name": "stdout",
          "text": [
            "\u001b[1;35mt=2023-12-29T22:18:34+0000 lvl=info msg=\"join connections\" obj=join id=684cc804e357 l=127.0.0.1:8237 r=208.52.57.68:64779\u001b[0m\n",
            "\u001b[1;35mGot token from cookie\u001b[0m\n",
            "\u001b[32mINFO\u001b[0m:     208.52.57.68:0 - \"\u001b[1mGET /api/v1/runs?pipeline_id=70d43328-d991-42e7-b053-bf8ee39a5058&sort_by=desc:created&logical_operator=and&page=1&size=10 HTTP/1.1\u001b[0m\" \u001b[32m200 OK\u001b[0m\n"
          ]
        },
        {
          "output_type": "stream",
          "name": "stderr",
          "text": [
            "INFO:pyngrok.process.ngrok:t=2023-12-29T22:18:40+0000 lvl=info msg=\"join connections\" obj=join id=98e27c33d283 l=127.0.0.1:8237 r=208.52.57.68:64779\n"
          ]
        },
        {
          "output_type": "stream",
          "name": "stdout",
          "text": [
            "\u001b[1;35mt=2023-12-29T22:18:40+0000 lvl=info msg=\"join connections\" obj=join id=98e27c33d283 l=127.0.0.1:8237 r=208.52.57.68:64779\u001b[0m\n",
            "\u001b[1;35mGot token from cookie\u001b[0m\n",
            "\u001b[32mINFO\u001b[0m:     208.52.57.68:0 - \"\u001b[1mGET /api/v1/runs?pipeline_id=70d43328-d991-42e7-b053-bf8ee39a5058&sort_by=desc:created&logical_operator=and&page=1&size=10 HTTP/1.1\u001b[0m\" \u001b[32m200 OK\u001b[0m\n"
          ]
        },
        {
          "output_type": "stream",
          "name": "stderr",
          "text": [
            "INFO:pyngrok.process.ngrok:t=2023-12-29T22:18:46+0000 lvl=info msg=\"join connections\" obj=join id=28e8c7934477 l=127.0.0.1:8237 r=208.52.57.68:64779\n"
          ]
        },
        {
          "output_type": "stream",
          "name": "stdout",
          "text": [
            "\u001b[1;35mt=2023-12-29T22:18:46+0000 lvl=info msg=\"join connections\" obj=join id=28e8c7934477 l=127.0.0.1:8237 r=208.52.57.68:64779\u001b[0m\n",
            "\u001b[1;35mGot token from cookie\u001b[0m\n",
            "\u001b[32mINFO\u001b[0m:     208.52.57.68:0 - \"\u001b[1mGET /api/v1/runs?pipeline_id=70d43328-d991-42e7-b053-bf8ee39a5058&sort_by=desc:created&logical_operator=and&page=1&size=10 HTTP/1.1\u001b[0m\" \u001b[32m200 OK\u001b[0m\n"
          ]
        },
        {
          "output_type": "stream",
          "name": "stderr",
          "text": [
            "INFO:pyngrok.process.ngrok:t=2023-12-29T22:18:52+0000 lvl=info msg=\"join connections\" obj=join id=e84d50073507 l=127.0.0.1:8237 r=208.52.57.68:64779\n"
          ]
        },
        {
          "output_type": "stream",
          "name": "stdout",
          "text": [
            "\u001b[1;35mt=2023-12-29T22:18:52+0000 lvl=info msg=\"join connections\" obj=join id=e84d50073507 l=127.0.0.1:8237 r=208.52.57.68:64779\u001b[0m\n",
            "\u001b[1;35mGot token from cookie\u001b[0m\n",
            "\u001b[32mINFO\u001b[0m:     208.52.57.68:0 - \"\u001b[1mGET /api/v1/runs?pipeline_id=70d43328-d991-42e7-b053-bf8ee39a5058&sort_by=desc:created&logical_operator=and&page=1&size=10 HTTP/1.1\u001b[0m\" \u001b[32m200 OK\u001b[0m\n"
          ]
        },
        {
          "output_type": "stream",
          "name": "stderr",
          "text": [
            "INFO:pyngrok.process.ngrok:t=2023-12-29T22:18:58+0000 lvl=info msg=\"join connections\" obj=join id=192d993646d6 l=127.0.0.1:8237 r=208.52.57.68:64779\n"
          ]
        },
        {
          "output_type": "stream",
          "name": "stdout",
          "text": [
            "\u001b[1;35mt=2023-12-29T22:18:58+0000 lvl=info msg=\"join connections\" obj=join id=192d993646d6 l=127.0.0.1:8237 r=208.52.57.68:64779\u001b[0m\n",
            "\u001b[1;35mGot token from cookie\u001b[0m\n",
            "\u001b[32mINFO\u001b[0m:     208.52.57.68:0 - \"\u001b[1mGET /api/v1/runs?pipeline_id=70d43328-d991-42e7-b053-bf8ee39a5058&sort_by=desc:created&logical_operator=and&page=1&size=10 HTTP/1.1\u001b[0m\" \u001b[32m200 OK\u001b[0m\n"
          ]
        },
        {
          "output_type": "stream",
          "name": "stderr",
          "text": [
            "INFO:pyngrok.process.ngrok:t=2023-12-29T22:19:04+0000 lvl=info msg=\"join connections\" obj=join id=55f0eb22cefe l=127.0.0.1:8237 r=208.52.57.68:64779\n"
          ]
        },
        {
          "output_type": "stream",
          "name": "stdout",
          "text": [
            "\u001b[1;35mt=2023-12-29T22:19:04+0000 lvl=info msg=\"join connections\" obj=join id=55f0eb22cefe l=127.0.0.1:8237 r=208.52.57.68:64779\u001b[0m\n",
            "\u001b[1;35mGot token from cookie\u001b[0m\n",
            "\u001b[32mINFO\u001b[0m:     208.52.57.68:0 - \"\u001b[1mGET /api/v1/runs?pipeline_id=70d43328-d991-42e7-b053-bf8ee39a5058&sort_by=desc:created&logical_operator=and&page=1&size=10 HTTP/1.1\u001b[0m\" \u001b[32m200 OK\u001b[0m\n"
          ]
        }
      ]
    }
  ]
}